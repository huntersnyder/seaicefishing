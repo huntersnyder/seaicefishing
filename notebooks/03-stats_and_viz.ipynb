{
   "cells": [
      {
         "cell_type": "code",
         "execution_count": null,
         "metadata": {},
         "outputs": [],
         "source": [
            "import datetime as dt\n",
            "import matplotlib.pyplot as plt\n",
            "import pandas as pd\n",
            "import numpy as np\n",
            "import seaborn as sns\n",
            "from scipy.stats import mannwhitneyu\n",
            "from matplotlib.ticker import ScalarFormatter, FormatStrFormatter, FuncFormatter\n",
            "\n",
            "import statsmodels.formula.api as smf\n",
            "\n",
            "import scipy.stats as stats\n",
            "\n",
            "sns.set_theme(style=\"whitegrid\")"
         ]
      },
      {
         "cell_type": "markdown",
         "metadata": {},
         "source": [
            "# Ice Fishing Fleet Visualizations\n"
         ]
      },
      {
         "cell_type": "code",
         "execution_count": null,
         "metadata": {},
         "outputs": [],
         "source": [
            "landings = pd.read_csv(\"../data/derived/landings_cleaned.csv\", low_memory=False)"
         ]
      },
      {
         "cell_type": "code",
         "execution_count": null,
         "metadata": {},
         "outputs": [],
         "source": [
            "# ax = landings.groupby(by=['seasonal_year']).vessel_type.value_counts(normalize=True).unstack().plot.bar(stacked=True, color={'ice': '#b0dac2', 'water': '#436b88'})\n",
            "# ax.set_ylabel('Share of landings (%)')\n",
            "# ax.set_xlabel('Seasonal Year (August-August)')\n",
            "# ax.legend = plt.legend()\n",
            "# ax.legend.set_title('Type of Fishing')"
         ]
      },
      {
         "cell_type": "code",
         "execution_count": null,
         "metadata": {},
         "outputs": [],
         "source": [
            "ax = (\n",
            "    landings.groupby(by=[\"seasonal_year\", \"vessel_type\"])\n",
            "    .amount_in_kg.sum()\n",
            "    .unstack()\n",
            "    .apply(lambda x: x / sum(x), axis=\"columns\")\n",
            "    .plot(kind=\"bar\", stacked=True, color={\"ice\": \"#b0dac2\", \"water\": \"#436b88\"})\n",
            ")\n",
            "ax.set_ylabel(\"Share of the total catch (%)\")\n",
            "ax.set_xlabel(\"Seasonal Year (August-August)\")\n",
            "ax.legend = plt.legend()\n",
            "ax.legend.set_title(\"Type of Fishing\")\n",
            "\n",
            "# change axes to 0-100\n",
            "# show entire fishing industry as the reference.. maybe second viz look just at nearshore and just halibut"
         ]
      },
      {
         "cell_type": "code",
         "execution_count": null,
         "metadata": {},
         "outputs": [],
         "source": [
            "ax = (\n",
            "    landings.query('vessel in [\"Sled\", \"Snowmobile\"]')\n",
            "    .groupby(by=[\"seasonal_year\", \"vessel\"])\n",
            "    .amount_in_kg.sum()\n",
            "    .unstack()\n",
            "    .apply(lambda x: x / sum(x), axis=\"columns\")\n",
            "    .plot(kind=\"bar\", stacked=True, color={\"Sled\": \"#e49b0f\", \"Snowmobile\": \"#b22222\"})\n",
            ")\n",
            "ax.set_ylabel(\"Share of the total catch (%)\")\n",
            "ax.set_xlabel(\"Seasonal Year (August-August)\")\n",
            "ax.legend = plt.legend()\n",
            "ax.legend.set_title(\"Vessel Type\")"
         ]
      },
      {
         "cell_type": "code",
         "execution_count": null,
         "metadata": {},
         "outputs": [],
         "source": [
            "landings[\"year_month\"] = landings.sales_date.apply(lambda x: \"-\".join(x.split(\"-\")[:2]))"
         ]
      },
      {
         "cell_type": "code",
         "execution_count": null,
         "metadata": {},
         "outputs": [],
         "source": [
            "# # Reorder the 'vessel' groups\n",
            "# landings['vessel'] = pd.Categorical(landings['vessel'],\n",
            "#                                    categories=['Larger Inshore Vessel', 'Dinghy', 'Sled', 'Snowmobile'],\n",
            "#                                    ordered=True)\n",
            "\n",
            "# # Create a stacked bar plot with custom colors and reordered categories\n",
            "# ax = landings.groupby(by=['seasonal_year', 'vessel']).size().unstack().plot.bar(\n",
            "#     stacked=True, figsize=(10, 10),\n",
            "#     color={'Sled': '#e49b0f', 'Snowmobile': '#b22222', 'Dinghy': '#436b88', 'Larger Inshore Vessel': '#104e8b'})\n",
            "\n",
            "# ax.set_ylabel(\"Number of landings\")\n",
            "# ax.set_xlabel(\"Month - Year\")\n",
            "# ax.legend(title=\"Vessel Type\")\n",
            "# plt.legend(bbox_to_anchor=(1, .05), loc='lower right')"
         ]
      },
      {
         "cell_type": "code",
         "execution_count": null,
         "metadata": {},
         "outputs": [],
         "source": [
            "ax = (\n",
            "    landings.query(\n",
            "        'vessel in [\"Sled\", \"Snowmobile\", \"Dinghy\", \"Larger Inshore Vessel\"]'\n",
            "    )\n",
            "    .groupby(by=[\"seasonal_year\", \"vessel\"])\n",
            "    .amount_in_kg.sum()\n",
            "    .unstack()\n",
            "    .plot(\n",
            "        kind=\"bar\",\n",
            "        stacked=False,\n",
            "        figsize=(10, 5),\n",
            "        color={\n",
            "            \"Sled\": \"#e49b0f\",\n",
            "            \"Snowmobile\": \"#b22222\",\n",
            "            \"Dinghy\": \"#436b88\",\n",
            "            \"Larger Inshore Vessel\": \"#104e8b\",\n",
            "        },\n",
            "    )\n",
            ")\n",
            "ax.set_ylabel(\"Total catch [Million kg]\")\n",
            "ax.set_xlabel(\"Fishing Season (August - August)\")\n",
            "ax.legend(title=\"Vessel Type\", fontsize=\"8\")\n",
            "\n",
            "\n",
            "def millions_formatter(x, pos):\n",
            "    return f\"{x / 1e6:.0f} \"\n",
            "\n",
            "\n",
            "ax.yaxis.set_major_formatter(FuncFormatter(millions_formatter))\n",
            "\n",
            "# stacked bar chart hard to read when they do not add up to total\n",
            "# grouped bar chart\n",
            "# test change"
         ]
      },
      {
         "cell_type": "markdown",
         "metadata": {},
         "source": [
            "### Economic\n"
         ]
      },
      {
         "cell_type": "code",
         "execution_count": null,
         "metadata": {},
         "outputs": [],
         "source": [
            "# fishers = landings.groupby(['seasonal_year', 'vessel_type']).seller_id.nunique().unstack()\n",
            "# ax = fishers.plot(kind='bar', stacked=True, color={'ice': '#b0dac2', 'water': '#436b88'})\n",
            "# ax.set_ylabel('Count of Fishers')\n",
            "# ax.set_xlabel('Fishing Season (August-August)')\n",
            "# ax.legend(title=\"Fishing Type\")\n",
            "\n",
            "\n",
            "# fishers = pd.melt(frame=fishers, ignore_index=False, value_vars=['ice', 'water'], value_name='num_fishers')"
         ]
      },
      {
         "cell_type": "code",
         "execution_count": null,
         "metadata": {},
         "outputs": [],
         "source": [
            "# revenue = landings.groupby(['seasonal_year', 'vessel_type']).value.sum().unstack()\n",
            "# ax = revenue.plot(kind='bar', stacked=True, color={'ice': '#b0dac2', 'water': '#436b88'})\n",
            "# ax.set_ylabel('Gross Revenue [Million DKK]')\n",
            "# ax.set_xlabel('Fishing Season (August-August)')\n",
            "# ax.legend(title=\"Fishing Type\")\n",
            "\n",
            "# def millions_formatter(x, pos):\n",
            "#      return f'{x / 1e6:.0f} '\n",
            "\n",
            "# ax.yaxis.set_major_formatter(FuncFormatter(millions_formatter))"
         ]
      },
      {
         "cell_type": "code",
         "execution_count": null,
         "metadata": {},
         "outputs": [],
         "source": [
            "fisher_types = pd.read_csv(\"../data/derived/fishertypes.csv\")"
         ]
      },
      {
         "cell_type": "code",
         "execution_count": null,
         "metadata": {},
         "outputs": [],
         "source": [
            "landings = landings.merge(\n",
            "    fisher_types.drop(columns=\"ice_proportion_of_income\"),\n",
            "    on=[\"seller_id\", \"seasonal_year\"],\n",
            ")"
         ]
      },
      {
         "cell_type": "code",
         "execution_count": null,
         "metadata": {},
         "outputs": [],
         "source": [
            "income = (\n",
            "    landings.groupby([\"seasonal_year\", \"seller_id\"])\n",
            "    .value.sum()\n",
            "    .rename(\"income\")\n",
            "    .reset_index()\n",
            ")\n",
            "income = income.merge(\n",
            "    fisher_types.drop(columns=\"ice_proportion_of_income\"),\n",
            "    on=[\"seller_id\", \"seasonal_year\"],\n",
            ")\n",
            "median_income = income.groupby([\"seasonal_year\", \"type\"]).income.median()\n",
            "median_income = median_income.rename(\"median_income\").reset_index()"
         ]
      },
      {
         "cell_type": "code",
         "execution_count": null,
         "metadata": {},
         "outputs": [],
         "source": [
            "# Set custom colors for 'ice' and 'water'\n",
            "custom_palette = {\n",
            "    \"ice-only\": \"#b0dac2\",\n",
            "    \"majority-ice\": \"#f59e42\",\n",
            "    \"majority-water\": \"#8c199e\",\n",
            "    \"water-only\": \"#436b88\",\n",
            "}\n",
            "\n",
            "ax = sns.lineplot(\n",
            "    data=median_income,\n",
            "    x=\"seasonal_year\",\n",
            "    y=\"median_income\",\n",
            "    hue=\"type\",\n",
            "    palette=custom_palette,\n",
            ")\n",
            "ax.set_xlabel(\"Ice Fishing Season (August-August)\")\n",
            "ax.set_ylabel(\"Median Earnings Per Capita (Thousand DKK)\")\n",
            "ax.legend(title=\"Fisher Type\")\n",
            "\n",
            "\n",
            "def thousands_formatter(x, pos):\n",
            "    return f\"{x / 1e3:.0f} \"\n",
            "\n",
            "\n",
            "ax.yaxis.set_major_formatter(FuncFormatter(thousands_formatter))"
         ]
      },
      {
         "cell_type": "code",
         "execution_count": null,
         "metadata": {},
         "outputs": [],
         "source": [
            "income_by_locality = (\n",
            "    landings.groupby([\"seasonal_year\", \"seller_id\", \"sellers_locality\"])\n",
            "    .value.sum()\n",
            "    .rename(\"income\")\n",
            "    .reset_index()\n",
            ")\n",
            "income_by_locality = income_by_locality.merge(\n",
            "    fisher_types.drop(columns=\"ice_proportion_of_income\"),\n",
            "    on=[\"seller_id\", \"seasonal_year\"],\n",
            ")\n",
            "median_income_by_locality = income_by_locality.groupby(\n",
            "    [\n",
            "        \"seasonal_year\",\n",
            "        \"sellers_locality\",\n",
            "        \"type\",\n",
            "    ]\n",
            ").income.median()\n",
            "median_income_by_locality = median_income_by_locality.rename(\n",
            "    \"median_income\"\n",
            ").reset_index()\n",
            "median_income_by_locality"
         ]
      },
      {
         "cell_type": "code",
         "execution_count": null,
         "metadata": {},
         "outputs": [],
         "source": [
            "family_income = pd.read_csv(\"../data/raw/family-income.csv\", na_values=\"...\")\n",
            "\n",
            "family_income = family_income[[\"locality\", \"time\", \"family type\", \"Family income\"]]\n",
            "family_income = family_income.rename(\n",
            "    columns={\n",
            "        \"locality\": \"sellers_locality\",\n",
            "        \"time\": \"seasonal_year\",\n",
            "        \"family type\": \"family_type\",\n",
            "        \"Family income\": \"family_income\",\n",
            "    }\n",
            ")\n",
            "family_income = family_income.pivot(\n",
            "    index=[\"seasonal_year\", \"sellers_locality\"],\n",
            "    columns=\"family_type\",\n",
            "    values=\"family_income\",\n",
            ")\n",
            "\n",
            "\n",
            "median_income_by_locality = median_income_by_locality.pivot(\n",
            "    index=[\"seasonal_year\", \"sellers_locality\"], columns=\"type\", values=\"median_income\"\n",
            ")\n",
            "\n",
            "median_income_by_locality = median_income_by_locality.merge(\n",
            "    family_income, left_index=True, right_index=True\n",
            ")\n",
            "median_income_by_locality.to_csv(\"../data/derived/median_income_by_locality.csv\")\n",
            "\n",
            "# TODO: Make a large table (for the supplemental materials) that shows the difference between each median income of each fisher type and the reference median income for each family type"
         ]
      },
      {
         "cell_type": "code",
         "execution_count": null,
         "metadata": {},
         "outputs": [],
         "source": [
            "median_income_by_locality = median_income_by_locality.loc[\n",
            "    2022,\n",
            "    [\n",
            "        \"Single people, total\",\n",
            "        \"Couples, total\",\n",
            "        \"Families, total\",\n",
            "        \"ice-only\",\n",
            "        \"majority-ice\",\n",
            "    ],\n",
            "]"
         ]
      },
      {
         "cell_type": "code",
         "execution_count": null,
         "metadata": {},
         "outputs": [],
         "source": [
            "median_income_by_locality = median_income_by_locality.dropna(\n",
            "    subset=[\"ice-only\", \"majority-ice\"], how=\"all\"\n",
            ")"
         ]
      },
      {
         "cell_type": "code",
         "execution_count": null,
         "metadata": {},
         "outputs": [],
         "source": [
            "median_income_by_locality[\"Maximum allowed income, ice-only\"] = (\n",
            "    median_income_by_locality[\"ice-only\"] * 2\n",
            ")\n",
            "median_income_by_locality[\"Maximum allowed income, majority-ice\"] = (\n",
            "    median_income_by_locality[\"majority-ice\"] * 2\n",
            ")"
         ]
      },
      {
         "cell_type": "code",
         "execution_count": null,
         "metadata": {},
         "outputs": [],
         "source": [
            "median_income_by_locality.loc[:, \"Maximum income per day, ice-only\"] = (\n",
            "    median_income_by_locality[\"Maximum allowed income, ice-only\"] / 365\n",
            ")\n",
            "median_income_by_locality.loc[:, \"Maximum income per day, majority-ice\"] = (\n",
            "    median_income_by_locality[\"Maximum allowed income, majority-ice\"] / 365\n",
            ")"
         ]
      },
      {
         "cell_type": "code",
         "execution_count": null,
         "metadata": {},
         "outputs": [],
         "source": [
            "median_income_by_locality = median_income_by_locality[\n",
            "    [\n",
            "        \"Single people, total\",\n",
            "        \"Couples, total\",\n",
            "        \"Families, total\",\n",
            "        \"ice-only\",\n",
            "        \"Maximum allowed income, ice-only\",\n",
            "        \"Maximum income per day, ice-only\",\n",
            "        \"majority-ice\",\n",
            "        \"Maximum allowed income, majority-ice\",\n",
            "        \"Maximum income per day, majority-ice\",\n",
            "    ]\n",
            "]"
         ]
      },
      {
         "cell_type": "code",
         "execution_count": null,
         "metadata": {},
         "outputs": [],
         "source": [
            "localities = pd.read_csv(\"../resources/localities.csv\")\n",
            "localities = localities[[\"locality\", \"geo_lat\"]]"
         ]
      },
      {
         "cell_type": "code",
         "execution_count": null,
         "metadata": {},
         "outputs": [],
         "source": [
            "median_income_by_locality = (\n",
            "    median_income_by_locality.merge(\n",
            "        right=localities, left_index=True, right_on=\"locality\"\n",
            "    )\n",
            "    .set_index(\"locality\")\n",
            "    .sort_values(by=\"geo_lat\", ascending=False)\n",
            "    .drop(columns=\"geo_lat\")\n",
            ")"
         ]
      },
      {
         "cell_type": "code",
         "execution_count": null,
         "metadata": {},
         "outputs": [],
         "source": [
            "median_income_by_locality.to_csv(\"../data/derived/median_income_by_locality.csv\")"
         ]
      },
      {
         "cell_type": "code",
         "execution_count": null,
         "metadata": {},
         "outputs": [],
         "source": [
            "# # Set custom colors for 'ice' and 'water'\n",
            "# custom_palette = {'ice': '#b0dac2', 'water': '#436b88'}\n",
            "\n",
            "# median_earnings_per_capita = pd.melt(frame=landings.groupby(['seasonal_year', 'vessel_type', 'seller_id']).amount_in_kg.sum().unstack(1).groupby('seasonal_year').median(), ignore_index=False, value_name='median_catch_per_capita', value_vars=['ice', 'water'])\n",
            "# median_earnings_per_capita.reset_index(inplace=True)\n",
            "# ax = sns.lineplot(data=median_earnings_per_capita, x='seasonal_year', y='median_catch_per_capita', hue='vessel_type', palette=custom_palette)\n",
            "# ax.set_xlabel(\"Ice Fishing Season (August-August)\")\n",
            "# ax.set_ylabel(\"Median Catch (kg) Per Capita\")\n",
            "# ax.legend(title=\"Fishing Type\")"
         ]
      },
      {
         "cell_type": "code",
         "execution_count": null,
         "metadata": {},
         "outputs": [],
         "source": [
            "from statsmodels.tsa.seasonal import seasonal_decompose\n",
            "\n",
            "median_amount = (\n",
            "    landings.groupby(by=[\"year_month\", \"vessel_type\"])\n",
            "    .amount_in_kg.median()\n",
            "    .unstack()\n",
            "    .reset_index()\n",
            ")\n",
            "\n",
            "median_amount.year_month = pd.to_datetime(median_amount.year_month, format=\"%Y-%m\")\n",
            "median_amount.set_index(\"year_month\", inplace=True)\n",
            "\n",
            "median_amount.fillna(0, inplace=True)\n",
            "result = seasonal_decompose(median_amount[\"ice\"], model=\"additive\")\n",
            "fig = result.plot(resid=False)\n",
            "fig.axes[0].set_ylabel(\"Median catch [kg]\")\n",
            "\n",
            "median_amount_decomposed = pd.DataFrame()\n",
            "median_amount_decomposed[\"trend\"] = result.trend\n",
            "median_amount_decomposed[\"seasonal\"] = result.seasonal\n",
            "median_amount_decomposed[\"vessel_type\"] = \"ice\"\n",
            "median_amount_decomposed"
         ]
      },
      {
         "cell_type": "code",
         "execution_count": null,
         "metadata": {},
         "outputs": [],
         "source": [
            "result.trend.value_counts()"
         ]
      },
      {
         "cell_type": "markdown",
         "metadata": {},
         "source": [
            "# Ice Fishing Season Visualizations\n"
         ]
      },
      {
         "cell_type": "code",
         "execution_count": null,
         "metadata": {},
         "outputs": [],
         "source": [
            "ppk_locality = pd.read_csv(\"../data/derived/ppk_locality.csv\", low_memory=False)\n",
            "\n",
            "ax = sns.boxplot(\n",
            "    data=ppk_locality, x=\"seasonal_year\", y=\"ppk\", legend=True, hue=\"vessel_type\"\n",
            ")\n",
            "\n",
            "ax.set_xlabel(\"Ice Fishing Season (August-August)\")\n",
            "ax.set_ylabel(\"Greenland halibut price paid to fishers (DKK / kg)\")"
         ]
      },
      {
         "cell_type": "code",
         "execution_count": null,
         "metadata": {},
         "outputs": [],
         "source": [
            "(\n",
            "    ppk_locality.set_index(\"sellers_locality\")\n",
            "    .groupby(\"seasonal_year\")\n",
            "    .ppk.idxmax()\n",
            "    .rename(\"Locality with the maximum PPK\")\n",
            ")"
         ]
      },
      {
         "cell_type": "code",
         "execution_count": null,
         "metadata": {},
         "outputs": [],
         "source": [
            "(\n",
            "    ppk_locality.set_index(\"sellers_locality\")\n",
            "    .groupby(\"seasonal_year\")\n",
            "    .ppk.idxmin()\n",
            "    .rename(\"Locality with the minimum PPK\")\n",
            ")"
         ]
      },
      {
         "cell_type": "markdown",
         "metadata": {},
         "source": [
            "## Total Daily Catch During Fishing Seasons 2012-2022\n"
         ]
      },
      {
         "cell_type": "code",
         "execution_count": null,
         "metadata": {},
         "outputs": [],
         "source": [
            "total_daily_catch = pd.read_csv(\"../data/derived/total_daily_catch.csv\")\n",
            "ax = sns.lineplot(\n",
            "    total_daily_catch,\n",
            "    x=\"seasonal_day\",\n",
            "    y=\"cumulative\",\n",
            "    hue=\"seasonal_year\",\n",
            "    palette=\"colorblind\",\n",
            ")\n",
            "\n",
            "ax.set_xlabel(\"Ice Fishing Season, Days from 1 August\")\n",
            "ax.set_ylabel(\"Cumulative Catch (kg)\")\n",
            "ax.legend(title=\"Ice Fishing Season\")"
         ]
      },
      {
         "cell_type": "markdown",
         "metadata": {},
         "source": [
            "### Correlation Tests (Season Start, End, and Length ~ Fishing Season)\n"
         ]
      },
      {
         "cell_type": "code",
         "execution_count": null,
         "metadata": {},
         "outputs": [],
         "source": [
            "# total_first_catch = pd.read_csv(\"../data/derived/total_first_catch.csv\")\n",
            "# total_first_catch.corr(method=\"kendall\").loc[\"first_catch_day\", \"season\"]"
         ]
      },
      {
         "cell_type": "code",
         "execution_count": null,
         "metadata": {},
         "outputs": [],
         "source": [
            "# ax = sns.lmplot(data=total_first_catch, x=\"season\", y=\"first_catch_day\", legend=False)\n",
            "\n",
            "# ax.set_axis_labels(\"Ice Fishing Season (August - August)\", \"First Day of Ice Fishing in Greenland\")"
         ]
      },
      {
         "cell_type": "code",
         "execution_count": null,
         "metadata": {},
         "outputs": [],
         "source": [
            "# total_last_catch = pd.read_csv(\"../data/derived/total_last_catch.csv\")\n",
            "# total_last_catch.corr(method=\"kendall\").loc[\"last_catch_day\", \"season\"]"
         ]
      },
      {
         "cell_type": "code",
         "execution_count": null,
         "metadata": {},
         "outputs": [],
         "source": [
            "# ax = sns.lmplot(data=total_last_catch, x=\"season\", y=\"last_catch_day\", legend=False)\n",
            "\n",
            "# ax.set_axis_labels(\"Ice Fishing Season (August - August)\", \"Last Day of Ice Fishing in Greenland\")"
         ]
      },
      {
         "cell_type": "code",
         "execution_count": null,
         "metadata": {},
         "outputs": [],
         "source": [
            "total_ice_season_length = pd.read_csv(\"../data/derived/total_ice_season_length.csv\")\n",
            "total_ice_season_length.corr(method=\"kendall\").loc[\"ice_season_length\", \"season\"]"
         ]
      },
      {
         "cell_type": "code",
         "execution_count": null,
         "metadata": {},
         "outputs": [],
         "source": [
            "total_ice_season_length"
         ]
      },
      {
         "cell_type": "code",
         "execution_count": null,
         "metadata": {},
         "outputs": [],
         "source": [
            "# ax = sns.lmplot(\n",
            "#     data=total_ice_season_length, x=\"season\", y=\"ice_season_length\", legend=False\n",
            "# )\n",
            "\n",
            "# ax.set_axis_labels(\"Ice Fishing Season (August - August)\", \"Length of Ice Fishing Season (Days)\")"
         ]
      },
      {
         "cell_type": "markdown",
         "metadata": {},
         "source": [
            "### Local First Catch\n"
         ]
      },
      {
         "cell_type": "code",
         "execution_count": null,
         "metadata": {},
         "outputs": [],
         "source": [
            "locality_first_catch = pd.read_csv(\"../data/derived/locality_first_catch.csv\")\n",
            "\n",
            "ax = sns.lineplot(\n",
            "    data=locality_first_catch.groupby(by=[\"season\", \"sellers_locality\"])\n",
            "    .first_catch_day.min()\n",
            "    .reset_index(),\n",
            "    x=\"season\",\n",
            "    y=\"first_catch_day\",\n",
            "    legend=False,\n",
            ")\n",
            "plt.xticks(range(2012, 2023))  # Adjust the range based on your data\n",
            "ax.set_xlabel(\"Ice Fishing Season (August - August)\")\n",
            "ax.set_ylabel(\"First Day of Ice Fishing\")"
         ]
      },
      {
         "cell_type": "markdown",
         "metadata": {},
         "source": [
            "### Local Last Catch\n"
         ]
      },
      {
         "cell_type": "code",
         "execution_count": null,
         "metadata": {},
         "outputs": [],
         "source": [
            "locality_last_catch = pd.read_csv(\"../data/derived/locality_last_catch.csv\")\n",
            "\n",
            "ax = sns.lineplot(\n",
            "    data=locality_last_catch.groupby(by=[\"season\", \"sellers_locality\"])\n",
            "    .last_catch_day.max()\n",
            "    .reset_index(),\n",
            "    x=\"season\",\n",
            "    y=\"last_catch_day\",\n",
            "    legend=False,\n",
            ")\n",
            "plt.xticks(range(2012, 2023))  # Adjust the range based on your data\n",
            "\n",
            "ax.set_xlabel(\"Ice Fishing Season (August - August)\")\n",
            "ax.set_ylabel(\"Last Day of Ice Fishing\")"
         ]
      },
      {
         "cell_type": "markdown",
         "metadata": {},
         "source": [
            "### Ice Fishing Catch\n"
         ]
      },
      {
         "cell_type": "code",
         "execution_count": null,
         "metadata": {},
         "outputs": [],
         "source": [
            "ice_landings = landings.query('vessel_type == \"ice\"')\n",
            "\n",
            "ax = sns.lineplot(\n",
            "    data=ice_landings.groupby(by=[\"seasonal_year\", \"sellers_locality\"])\n",
            "    .amount_in_kg.sum()\n",
            "    .reset_index(),\n",
            "    x=\"seasonal_year\",\n",
            "    y=\"amount_in_kg\",\n",
            "    legend=False,\n",
            ")\n",
            "plt.xticks(range(2012, 2023))  # Adjust the range based on your data\n",
            "\n",
            "ax.set_xlabel(\"Ice Fishing Season (August - August)\")\n",
            "ax.set_ylabel(\"Catch (tonnes)\")\n",
            "\n",
            "\n",
            "def millions_formatter(x, pos):\n",
            "    return f\"{x / 1e3:.0f} \"\n",
            "\n",
            "\n",
            "ax.yaxis.set_major_formatter(FuncFormatter(millions_formatter))"
         ]
      },
      {
         "cell_type": "markdown",
         "metadata": {},
         "source": [
            "### Number of Fields Fished, 2012-2022\n"
         ]
      },
      {
         "cell_type": "code",
         "execution_count": null,
         "metadata": {},
         "outputs": [],
         "source": [
            "num_fields = pd.read_csv(\"../data/derived/total_num_fields.csv\")\n",
            "# ax = sns.barplot(data=num_fields, x=\"season\", y=\"n_fields\", color=\"#b0dac2\")\n",
            "\n",
            "\n",
            "# ax.set_xlabel(\"Ice Fishing Season (August - August)\")\n",
            "# ax.set_ylabel(\"Count of Ice Fishing Areas Fished\")"
         ]
      },
      {
         "cell_type": "markdown",
         "metadata": {},
         "source": [
            "### Local Number of Fields fished, 2012-2022\n",
            "\n",
            "#todo create visualization of this, and stats test\n"
         ]
      },
      {
         "cell_type": "code",
         "execution_count": null,
         "metadata": {},
         "outputs": [],
         "source": [
            "locality_num_fields = pd.read_csv(\"../data/derived/locality_num_fields.csv\")\n",
            "locality_num_fields = locality_num_fields.pivot(\n",
            "    index=\"sellers_locality\", columns=\"seasonal_year\", values=\"n_fields\"\n",
            ").fillna(0)\n",
            "\n",
            "# Normalize each locality to maximum number of field codes\n",
            "locality_num_fields = locality_num_fields.div(\n",
            "    locality_num_fields.max(axis=\"columns\"), axis=0\n",
            ")\n",
            "\n",
            "locality_num_fields = (\n",
            "    locality_num_fields.merge(right=localities, left_index=True, right_on=\"locality\")\n",
            "    .set_index(\"locality\")\n",
            "    .sort_values(by=\"geo_lat\", ascending=False)\n",
            "    .drop(columns=\"geo_lat\")\n",
            ")\n",
            "plt.figure(figsize=(8, 12))\n",
            "custom_cmap = sns.color_palette(\"Blues\")\n",
            "ax = sns.heatmap(locality_num_fields, cmap=custom_cmap)\n",
            "\n",
            "ax.set_xlabel(\"Ice Fishing Season (August - August)\")\n",
            "ax.set_ylabel(\"Localities with Ice Fishing Activities, by Descending Latitude (°N)\")\n",
            "# plt.text(0.5, -0.09, 'Heat Map of Field Codes Fished, by locality, by year, normalized by each locality to Maximum Number of Field Codes', fontsize=10, ha='center', va='center', transform=plt.gca().transAxes)"
         ]
      },
      {
         "cell_type": "markdown",
         "metadata": {},
         "source": [
            "## Ice Fishing Season Trend\n"
         ]
      },
      {
         "cell_type": "code",
         "execution_count": null,
         "metadata": {},
         "outputs": [],
         "source": [
            "ice_season_trend = pd.read_csv(\"../data/derived/ice_season_trend.csv\")\n",
            "\n",
            "ax = sns.histplot(ice_season_trend, x=\"duration_change\", color=\"#b0dac2\")\n",
            "\n",
            "ax.set_xlabel(\"Ice Fishing Season Trend (days)\")\n",
            "ax.set_ylabel(\"Count\")"
         ]
      },
      {
         "cell_type": "code",
         "execution_count": null,
         "metadata": {},
         "outputs": [],
         "source": [
            "import matplotlib.pyplot as plt\n",
            "\n",
            "sns.set_theme(style=\"whitegrid\")\n",
            "g = sns.catplot(\n",
            "    ice_season_trend.dropna().sort_values(by=\"duration_change\"),\n",
            "    kind=\"strip\",\n",
            "    x=\"duration_change\",\n",
            "    y=\"sellers_locality\",\n",
            "    height=6,\n",
            "    aspect=0.8,\n",
            "    linewidth=1,\n",
            "    edgecolor=\"w\",\n",
            "    orient=\"h\",\n",
            "    jitter=False,\n",
            ")\n",
            "\n",
            "sns.despine(left=True, bottom=True)\n",
            "g.axes.flat[0].yaxis.grid(True)\n",
            "g.axes.flat[0].xaxis.grid(True)\n",
            "g.axes.flat[0].set_xlim([-15, 35])\n",
            "g.axes.flat[0].set_xticks(range(-15, 40, 5))\n",
            "plt.axvline(0)\n",
            "g.set_xlabels(\"Ice season duration trend in days\")\n",
            "g.set_ylabels(\"Locality\")"
         ]
      },
      {
         "cell_type": "code",
         "execution_count": null,
         "metadata": {},
         "outputs": [],
         "source": [
            "ax = sns.scatterplot(ice_season_trend, x=\"ice_season_trend\", y=\"lat\")\n",
            "\n",
            "ax.set_xlim([-10, 10])\n",
            "plt.xticks(range(-10, 10))\n",
            "\n",
            "ax.set_xlabel(\"Ice Fishing Season Trend (days)\")\n",
            "ax.set_ylabel(\"Latitude (°N)\")"
         ]
      },
      {
         "cell_type": "code",
         "execution_count": null,
         "metadata": {},
         "outputs": [],
         "source": [
            "# ax = sns.lineplot(\n",
            "#     locality_seasons[locality_seasons.first_or_last == \"last\"],\n",
            "#     x=\"season\",\n",
            "#     y=\"amount_in_kg\",\n",
            "# )\n",
            "# plt.xticks(range(2012, 2022))  # Adjust the range based on your data\n",
            "# ax.set_xlabel(\"Ice Fishing Season (August - August)\")\n",
            "# ax.set_ylabel(\"Catch (kg)\")"
         ]
      },
      {
         "cell_type": "code",
         "execution_count": null,
         "metadata": {},
         "outputs": [],
         "source": [
            "locality_seasons = pd.read_csv(\"../data/derived/locality_seasons.csv\")\n",
            "\n",
            "locality_seasons[\"landing_date\"] = pd.to_datetime(locality_seasons[\"landing_date\"])\n",
            "\n",
            "# Filter the dataframe to include only rows where 'first_or_last' is 'last'\n",
            "filtered_locality_seasons = locality_seasons[\n",
            "    locality_seasons[\"first_or_last\"] == \"first\"\n",
            "]\n",
            "\n",
            "# Extract month and day components from 'landing_date'\n",
            "filtered_locality_seasons[\"landing_month\"] = filtered_locality_seasons[\n",
            "    \"landing_date\"\n",
            "].dt.month\n",
            "filtered_locality_seasons[\"landing_day\"] = filtered_locality_seasons[\n",
            "    \"landing_date\"\n",
            "].dt.day\n",
            "\n",
            "# Find the earliest month and day\n",
            "earliest_month = filtered_locality_seasons[\"landing_month\"].min()\n",
            "earliest_day = filtered_locality_seasons[\"landing_day\"].min()\n",
            "\n",
            "print(\"Earliest Month:\", earliest_month)\n",
            "print(\"Earliest Day:\", earliest_day)"
         ]
      }
   ],
   "metadata": {
      "kernelspec": {
         "display_name": ".venv",
         "language": "python",
         "name": "python3"
      },
      "language_info": {
         "codemirror_mode": {
            "name": "ipython",
            "version": 3
         },
         "file_extension": ".py",
         "mimetype": "text/x-python",
         "name": "python",
         "nbconvert_exporter": "python",
         "pygments_lexer": "ipython3",
         "version": "3.12.2"
      }
   },
   "nbformat": 4,
   "nbformat_minor": 2
}
