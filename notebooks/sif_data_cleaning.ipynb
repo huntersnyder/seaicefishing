{
 "cells": [
  {
   "cell_type": "markdown",
   "metadata": {},
   "source": [
    "# Overview\n",
    "\n",
    "This notebook prepares landings records from the Government of Greenland, Fisheries Department, Fisheries License Control Authority, for the purposes of reproducing the results of the sea ice fishing study.\n"
   ]
  },
  {
   "cell_type": "markdown",
   "metadata": {},
   "source": [
    "## Load Packages\n"
   ]
  },
  {
   "cell_type": "code",
   "execution_count": 188,
   "metadata": {},
   "outputs": [],
   "source": [
    "import datetime as dt\n",
    "import matplotlib.pyplot as plt\n",
    "import pandas as pd\n",
    "import numpy as np\n",
    "import seaborn as sns\n",
    "from sklearn.covariance import EllipticEnvelope\n",
    "from tqdm.notebook import tqdm\n",
    "import json\n",
    "from pathlib import Path"
   ]
  },
  {
   "cell_type": "markdown",
   "metadata": {},
   "source": [
    "## Load and Clean Landings Records\n"
   ]
  },
  {
   "cell_type": "code",
   "execution_count": 189,
   "metadata": {},
   "outputs": [],
   "source": [
    "landings = pd.read_csv(\n",
    "    \"../data/raw/landings_raw.csv\",\n",
    "    index_col=0,\n",
    "    encoding=\"ISO-8859-1\",\n",
    "    low_memory=False,\n",
    "    na_values=[\"I/O\"],\n",
    ")"
   ]
  },
  {
   "cell_type": "markdown",
   "metadata": {},
   "source": [
    "### Create New Variable for the Vessel Type\n",
    "\n",
    "TODO: Explain why needed and why some are discarded (mapped to `None`)\n"
   ]
  },
  {
   "cell_type": "code",
   "execution_count": 190,
   "metadata": {},
   "outputs": [],
   "source": [
    "vessels = {\n",
    "    \"UJOLLE\": None,\n",
    "    \"USLAEDE\": None,\n",
    "    \"Dinghy\": \"water\",\n",
    "    \"Larger Inshore Vessel\": \"water\",\n",
    "    \"Sled\": \"ice\",\n",
    "    \"Snowmobile\": \"ice\",\n",
    "    \"ATV\": None,\n",
    "}\n",
    "landings[\"vessel\"] = landings.vessel_type\n",
    "landings[\"vessel_type\"] = landings.vessel.map(vessels)"
   ]
  },
  {
   "cell_type": "markdown",
   "metadata": {},
   "source": [
    "### Correct Erroneous Localities Values\n"
   ]
  },
  {
   "cell_type": "code",
   "execution_count": 191,
   "metadata": {},
   "outputs": [],
   "source": [
    "wrong_localities = {\n",
    "    \"Aappilattoq Nanortalimmi\": \"Nanortalik\",\n",
    "    \"Aappilattoq Upernavimmi\": \"Upernavik\",\n",
    "    \"Kuummiit\": \"Kuummiut\",\n",
    "    \"Nuussuaq, Nuuk\": \"Nuuk\",\n",
    "    \"Nuussuaq, Upernavik\": \"Upernavik\",\n",
    "    \"Tasiusaq Nanortalimmi\": \"Nanortalik\",\n",
    "    \"Tasiusaq, Nanortalimmi\": \"Nanortalik\",\n",
    "    \"Tasiusaq, Upernavik\": \"Upernavik\",\n",
    "    \"Tiileqilaaq\": \"Tiniteqilaaq\",\n",
    "}\n",
    "\n",
    "landings.sellers_locality = landings.sellers_locality.replace(\n",
    "    to_replace=wrong_localities\n",
    ")\n",
    "landings.buyers_locality = landings.buyers_locality.replace(to_replace=wrong_localities)"
   ]
  },
  {
   "cell_type": "markdown",
   "metadata": {},
   "source": [
    "### Correct Gears\n"
   ]
  },
  {
   "cell_type": "code",
   "execution_count": 192,
   "metadata": {},
   "outputs": [],
   "source": [
    "wrong_gears = {\n",
    "    \"Set gillnets\": \"Gill nets\",\n",
    "    \"Gill nets\": \"Gill nets\",\n",
    "    \"Longlines (not specified)\": \"Longlines\",\n",
    "}\n",
    "\n",
    "landings[\"gears\"] = landings.gear_en.replace(to_replace=wrong_gears)\n",
    "landings = landings[landings[\"num_tools\"] > 0]"
   ]
  },
  {
   "cell_type": "markdown",
   "metadata": {},
   "source": [
    "### Drop Erroneous Records\n"
   ]
  },
  {
   "cell_type": "code",
   "execution_count": 193,
   "metadata": {},
   "outputs": [],
   "source": [
    "# Some missing data are okay, but some are an immediate disqualifier for further analysis of that row\n",
    "landings = landings.dropna(\n",
    "    subset=[\"landing_date\", \"seller_id\", \"field_code\", \"sellers_locality\"]\n",
    ")\n",
    "landings = landings[landings[\"fishing_time\"] > 0]"
   ]
  },
  {
   "cell_type": "markdown",
   "metadata": {},
   "source": [
    "### Clean Up Field Codes\n"
   ]
  },
  {
   "cell_type": "code",
   "execution_count": 194,
   "metadata": {},
   "outputs": [],
   "source": [
    "field_codes = pd.read_csv(\"../resources/fieldcodes.csv\")"
   ]
  },
  {
   "cell_type": "code",
   "execution_count": 195,
   "metadata": {},
   "outputs": [],
   "source": [
    "landings[\"field_code\"] = landings.field_code.str.replace(\"-\", \"\")\n",
    "\n",
    "\n",
    "def insert_zero_padding(field_code):\n",
    "    try:\n",
    "        return field_code[:2] + f\"{int(field_code[2:]):03d}\"\n",
    "    except (ValueError, TypeError):\n",
    "        return field_code\n",
    "\n",
    "\n",
    "landings[\"field_code\"] = landings.field_code.apply(insert_zero_padding)"
   ]
  },
  {
   "cell_type": "code",
   "execution_count": 196,
   "metadata": {},
   "outputs": [],
   "source": [
    "landings = landings.drop(columns=[\"latitude\", \"longitude\"])"
   ]
  },
  {
   "cell_type": "code",
   "execution_count": 197,
   "metadata": {},
   "outputs": [],
   "source": [
    "landings = landings.merge(right=field_codes)"
   ]
  },
  {
   "cell_type": "markdown",
   "metadata": {},
   "source": [
    "## Load Locality Information\n"
   ]
  },
  {
   "cell_type": "code",
   "execution_count": 198,
   "metadata": {},
   "outputs": [
    {
     "data": {
      "text/html": [
       "<div>\n",
       "<style scoped>\n",
       "    .dataframe tbody tr th:only-of-type {\n",
       "        vertical-align: middle;\n",
       "    }\n",
       "\n",
       "    .dataframe tbody tr th {\n",
       "        vertical-align: top;\n",
       "    }\n",
       "\n",
       "    .dataframe thead th {\n",
       "        text-align: right;\n",
       "    }\n",
       "</style>\n",
       "<table border=\"1\" class=\"dataframe\">\n",
       "  <thead>\n",
       "    <tr style=\"text-align: right;\">\n",
       "      <th></th>\n",
       "      <th>TEKST_GL</th>\n",
       "      <th>KOMMUNE</th>\n",
       "      <th>TYPE</th>\n",
       "    </tr>\n",
       "  </thead>\n",
       "  <tbody>\n",
       "    <tr>\n",
       "      <th>0</th>\n",
       "      <td>Nerlerit Inaat</td>\n",
       "      <td>Sermersooq</td>\n",
       "      <td>Bygd</td>\n",
       "    </tr>\n",
       "    <tr>\n",
       "      <th>2</th>\n",
       "      <td>Sirius</td>\n",
       "      <td>UFK</td>\n",
       "      <td>Station</td>\n",
       "    </tr>\n",
       "    <tr>\n",
       "      <th>3</th>\n",
       "      <td>Akunnaaq</td>\n",
       "      <td>Qaasuitsup</td>\n",
       "      <td>Bygd</td>\n",
       "    </tr>\n",
       "    <tr>\n",
       "      <th>4</th>\n",
       "      <td>Kitsissuarsuit</td>\n",
       "      <td>Qaasuitsup</td>\n",
       "      <td>Bygd</td>\n",
       "    </tr>\n",
       "    <tr>\n",
       "      <th>5</th>\n",
       "      <td>Ikkatteq</td>\n",
       "      <td>Sermersooq</td>\n",
       "      <td>Bygd</td>\n",
       "    </tr>\n",
       "    <tr>\n",
       "      <th>...</th>\n",
       "      <td>...</td>\n",
       "      <td>...</td>\n",
       "      <td>...</td>\n",
       "    </tr>\n",
       "    <tr>\n",
       "      <th>91</th>\n",
       "      <td>Daneborg</td>\n",
       "      <td>UFK</td>\n",
       "      <td>Station</td>\n",
       "    </tr>\n",
       "    <tr>\n",
       "      <th>93</th>\n",
       "      <td>Ikamiut</td>\n",
       "      <td>Qaasuitsup</td>\n",
       "      <td>Bygd</td>\n",
       "    </tr>\n",
       "    <tr>\n",
       "      <th>94</th>\n",
       "      <td>Nutaarmiut</td>\n",
       "      <td>Qaasuitsup</td>\n",
       "      <td>Bygd</td>\n",
       "    </tr>\n",
       "    <tr>\n",
       "      <th>95</th>\n",
       "      <td>Ikerasaarsuk, Upernavik</td>\n",
       "      <td>Qaasuitsup</td>\n",
       "      <td>Bygd</td>\n",
       "    </tr>\n",
       "    <tr>\n",
       "      <th>96</th>\n",
       "      <td>Ungusivik</td>\n",
       "      <td>Qeqqata</td>\n",
       "      <td>Bygd</td>\n",
       "    </tr>\n",
       "  </tbody>\n",
       "</table>\n",
       "<p>92 rows × 3 columns</p>\n",
       "</div>"
      ],
      "text/plain": [
       "                   TEKST_GL     KOMMUNE     TYPE\n",
       "0            Nerlerit Inaat  Sermersooq     Bygd\n",
       "2                    Sirius         UFK  Station\n",
       "3                  Akunnaaq  Qaasuitsup     Bygd\n",
       "4            Kitsissuarsuit  Qaasuitsup     Bygd\n",
       "5                  Ikkatteq  Sermersooq     Bygd\n",
       "..                      ...         ...      ...\n",
       "91                 Daneborg         UFK  Station\n",
       "93                  Ikamiut  Qaasuitsup     Bygd\n",
       "94               Nutaarmiut  Qaasuitsup     Bygd\n",
       "95  Ikerasaarsuk, Upernavik  Qaasuitsup     Bygd\n",
       "96                Ungusivik     Qeqqata     Bygd\n",
       "\n",
       "[92 rows x 3 columns]"
      ]
     },
     "execution_count": 198,
     "metadata": {},
     "output_type": "execute_result"
    }
   ],
   "source": [
    "locality_info = pd.read_csv(\"../resources/localities.csv\")\n",
    "locality_info = locality_info[[\"TEKST_GL\", \"KOMMUNE\", \"TYPE\"]]\n",
    "locality_info = locality_info.dropna()\n",
    "locality_info"
   ]
  },
  {
   "cell_type": "code",
   "execution_count": 199,
   "metadata": {},
   "outputs": [],
   "source": [
    "landings = (\n",
    "    landings.merge(locality_info, left_on=\"sellers_locality\", right_on=\"TEKST_GL\")\n",
    "    .rename(\n",
    "        columns={\"KOMMUNE\": \"sellers_municipality\", \"TYPE\": \"sellers_settlement_size\"}\n",
    "    )\n",
    "    .drop(columns=\"TEKST_GL\")\n",
    ")"
   ]
  },
  {
   "cell_type": "markdown",
   "metadata": {},
   "source": [
    "## Create Derived Variables\n"
   ]
  },
  {
   "cell_type": "markdown",
   "metadata": {},
   "source": [
    "### Create Seasonal Year\n"
   ]
  },
  {
   "cell_type": "code",
   "execution_count": 200,
   "metadata": {},
   "outputs": [],
   "source": [
    "season_start_month = 8\n",
    "\n",
    "landings[\"landing_date\"] = pd.to_datetime(landings.landing_date)\n",
    "landings[\"seasonal_year\"] = landings.landing_date.apply(\n",
    "    lambda x: x.year - 1 if x.month < season_start_month else x.year\n",
    ")\n",
    "landings = landings.query(\"seasonal_year >= 2012 & seasonal_year <= 2022\")"
   ]
  },
  {
   "cell_type": "markdown",
   "metadata": {},
   "source": [
    "### Calculate Catch Per Unit of Effort (CPUE)\n"
   ]
  },
  {
   "cell_type": "code",
   "execution_count": 201,
   "metadata": {},
   "outputs": [],
   "source": [
    "landings[\"effective_num_tools\"] = landings[\"num_tools\"]\n",
    "landings.loc[landings.gears == \"Longlines\", \"effective_num_tools\"] /= 100\n",
    "landings[\"cpue\"] = (\n",
    "    landings.amount_in_kg / landings.effective_num_tools / landings.fishing_time\n",
    ")\n",
    "landings = landings.drop(columns=\"effective_num_tools\")"
   ]
  },
  {
   "cell_type": "markdown",
   "metadata": {},
   "source": [
    "### Calculate Price Per Kilo (DKK/kg)\n"
   ]
  },
  {
   "cell_type": "code",
   "execution_count": 202,
   "metadata": {},
   "outputs": [],
   "source": [
    "landings[\"ppk\"] = landings.value / landings.amount_in_kg\n",
    "landings = landings.replace([np.inf, -np.inf], np.nan)\n",
    "landings = landings.dropna(subset=[\"cpue\", \"ppk\"])"
   ]
  },
  {
   "cell_type": "markdown",
   "metadata": {},
   "source": [
    "### Outlier Removal\n"
   ]
  },
  {
   "cell_type": "code",
   "execution_count": 203,
   "metadata": {},
   "outputs": [],
   "source": [
    "def is_outlier(s):\n",
    "    if s.shape[0] < 3:  # For less than 3 data points, outliers cannot be detected\n",
    "        return s != s\n",
    "    return pd.Series(\n",
    "        EllipticEnvelope(support_fraction=0.8).fit_predict(s.values.reshape(-1, 1))\n",
    "        == -1,\n",
    "        index=s.index,\n",
    "    )\n",
    "\n",
    "\n",
    "landings = landings[\n",
    "    ~landings.groupby(\"sellers_municipality\", group_keys=False)[\"cpue\"].apply(\n",
    "        is_outlier\n",
    "    )\n",
    "]\n",
    "landings = landings[\n",
    "    ~landings.groupby(\"sellers_municipality\", group_keys=False)[\"ppk\"].apply(is_outlier)\n",
    "]\n",
    "landings = landings[\n",
    "    ~landings.groupby(\"sellers_municipality\", group_keys=False)[\"value\"].apply(\n",
    "        is_outlier\n",
    "    )\n",
    "]"
   ]
  },
  {
   "cell_type": "markdown",
   "metadata": {},
   "source": [
    "## Create Derived Dataframes\n"
   ]
  },
  {
   "cell_type": "markdown",
   "metadata": {},
   "source": [
    "### Calculate Price Per Kilo According to Locality\n"
   ]
  },
  {
   "cell_type": "code",
   "execution_count": 204,
   "metadata": {},
   "outputs": [],
   "source": [
    "landings.groupby(by=[\"sellers_locality\", \"seasonal_year\"]).ppk.mean().to_csv(\n",
    "    \"../data/derived/ppk_locality.csv\"\n",
    ")"
   ]
  },
  {
   "cell_type": "markdown",
   "metadata": {},
   "source": [
    "### Ice Landings and Water Landings\n"
   ]
  },
  {
   "cell_type": "code",
   "execution_count": 206,
   "metadata": {},
   "outputs": [],
   "source": [
    "ice_landings = landings.query('vessel_type == \"ice\"')\n",
    "water_landings = landings.query('vessel_type == \"water\"')"
   ]
  },
  {
   "cell_type": "markdown",
   "metadata": {},
   "source": [
    "### Total Daily Catch\n"
   ]
  },
  {
   "cell_type": "code",
   "execution_count": null,
   "metadata": {},
   "outputs": [],
   "source": [
    "total_daily_catch = (\n",
    "    ice_landings.groupby(by=[\"seasonal_year\", \"landing_date\"])\n",
    "    .amount_in_kg.sum()\n",
    "    .reset_index()\n",
    ")\n",
    "\n",
    "\n",
    "def calc_seasonal_days(row):\n",
    "    return (row[\"landing_date\"] - dt.datetime(row[\"seasonal_year\"], 8, 1)).days\n",
    "\n",
    "\n",
    "total_daily_catch[\"seasonal_day\"] = total_daily_catch[\n",
    "    [\"landing_date\", \"seasonal_year\"]\n",
    "].apply(calc_seasonal_days, axis=\"columns\")\n",
    "\n",
    "total_daily_catch[\"cumulative\"] = (\n",
    "    total_daily_catch.sort_values(by=\"seasonal_day\")\n",
    "    .groupby(by=[\"seasonal_year\"])\n",
    "    .amount_in_kg.cumsum()\n",
    ")\n",
    "\n",
    "total_daily_catch.to_csv(\"../data/total_daily_catch.csv\")"
   ]
  },
  {
   "cell_type": "markdown",
   "metadata": {},
   "source": [
    "### Local Daily Catch\n"
   ]
  },
  {
   "cell_type": "code",
   "execution_count": null,
   "metadata": {},
   "outputs": [],
   "source": [
    "local_daily_catch = (\n",
    "    landings.query('vessel_type == \"ice\"')\n",
    "    .groupby(by=[\"seasonal_year\", \"field_code\", \"landing_date\", \"sellers_locality\"])\n",
    "    .amount_in_kg.sum()\n",
    "    .reset_index()\n",
    ")\n",
    "\n",
    "\n",
    "def calc_seasonal_days(row):\n",
    "    return (row[\"landing_date\"] - dt.datetime(row[\"seasonal_year\"], 8, 1)).days\n",
    "\n",
    "\n",
    "local_daily_catch[\"seasonal_day\"] = local_daily_catch[\n",
    "    [\"landing_date\", \"seasonal_year\"]\n",
    "].apply(calc_seasonal_days, axis=\"columns\")\n",
    "\n",
    "local_daily_catch[\"cumulative\"] = (\n",
    "    local_daily_catch.sort_values(by=\"seasonal_day\")\n",
    "    .groupby(by=[\"seasonal_year\", \"field_code\", \"sellers_locality\"])\n",
    "    .amount_in_kg.cumsum()\n",
    ")\n",
    "\n",
    "\n",
    "local_daily_catch.to_csv(\"../data/local_daily_catch.csv\")"
   ]
  },
  {
   "cell_type": "markdown",
   "metadata": {},
   "source": [
    "### Local First Catch\n"
   ]
  },
  {
   "cell_type": "code",
   "execution_count": null,
   "metadata": {},
   "outputs": [],
   "source": [
    "local_first_catch = (\n",
    "    local_daily_catch.groupby(by=[\"seasonal_year\", \"field_code\", \"sellers_locality\"])\n",
    "    .seasonal_day.min()\n",
    "    .reset_index()\n",
    "    .rename(columns={\"seasonal_day\": \"first_catch_day\", \"seasonal_year\": \"season\"})\n",
    ")\n",
    "\n",
    "local_first_catch.to_csv(\"../data/local_first_catch.csv\")"
   ]
  },
  {
   "cell_type": "markdown",
   "metadata": {},
   "source": [
    "### Local Last Catch\n"
   ]
  },
  {
   "cell_type": "code",
   "execution_count": null,
   "metadata": {},
   "outputs": [],
   "source": [
    "local_last_catch = (\n",
    "    local_daily_catch.groupby(by=[\"seasonal_year\", \"field_code\", \"sellers_locality\"])\n",
    "    .seasonal_day.max()\n",
    "    .reset_index()\n",
    "    .rename(columns={\"seasonal_day\": \"last_catch_day\", \"seasonal_year\": \"season\"})\n",
    ")\n",
    "local_last_catch.to_csv(\"../data/local_last_catch.csv\")\n",
    "\n",
    "local_last_catch_dates"
   ]
  },
  {
   "cell_type": "markdown",
   "metadata": {},
   "source": [
    "## Season Length (First/Last Catch Criteria)\n"
   ]
  },
  {
   "cell_type": "code",
   "execution_count": null,
   "metadata": {},
   "outputs": [],
   "source": [
    "total_first_catch = (\n",
    "    total_daily_catch.groupby(by=[\"seasonal_year\"])\n",
    "    .seasonal_day.min()\n",
    "    .reset_index()\n",
    "    .rename(columns={\"seasonal_day\": \"first_catch_day\", \"seasonal_year\": \"season\"})\n",
    ")\n",
    "\n",
    "total_last_catch = (\n",
    "    total_daily_catch.groupby(by=[\"seasonal_year\"])\n",
    "    .seasonal_day.max()\n",
    "    .reset_index()\n",
    "    .rename(columns={\"seasonal_day\": \"last_catch_day\", \"seasonal_year\": \"season\"})\n",
    ")\n",
    "\n",
    "total_ice_season_length = (\n",
    "    total_last_catch.set_index(\"season\").last_catch_day\n",
    "    - total_first_catch.set_index(\"season\").first_catch_day\n",
    ")\n",
    "total_ice_season_length = total_ice_season_length.reset_index(name=\"ice_season_length\")\n",
    "\n",
    "total_first_catch.to_csv(\"../data/total_first_catch.csv\")\n",
    "total_last_catch.to_csv(\"../data/total_last_catch.csv\")\n",
    "total_ice_season_length.to_csv(\"../data/total_ice_season_length.csv\")"
   ]
  },
  {
   "cell_type": "markdown",
   "metadata": {},
   "source": [
    "### First and Last Days, by Locality, 2012-2022\n"
   ]
  },
  {
   "cell_type": "code",
   "execution_count": null,
   "metadata": {},
   "outputs": [],
   "source": [
    "first_days = (\n",
    "    local_daily_catch.groupby(by=[\"seasonal_year\", \"sellers_locality\"])\n",
    "    .seasonal_day.min()\n",
    "    .reset_index()\n",
    "    .merge(\n",
    "        local_daily_catch[\n",
    "            [\n",
    "                \"seasonal_year\",\n",
    "                \"sellers_locality\",\n",
    "                \"field_code\",\n",
    "                \"seasonal_day\",\n",
    "                \"landing_date\",\n",
    "                \"amount_in_kg\",\n",
    "            ]\n",
    "        ]\n",
    "    )\n",
    "    .rename(columns={\"seasonal_day\": \"catch_day\", \"seasonal_year\": \"season\"})\n",
    ")\n",
    "\n",
    "first_days[\"first_or_last\"] = \"first\"\n",
    "\n",
    "last_days = (\n",
    "    local_daily_catch.groupby(by=[\"seasonal_year\", \"sellers_locality\"])\n",
    "    .seasonal_day.max()\n",
    "    .reset_index()\n",
    "    .merge(\n",
    "        local_daily_catch[\n",
    "            [\n",
    "                \"seasonal_year\",\n",
    "                \"sellers_locality\",\n",
    "                \"field_code\",\n",
    "                \"seasonal_day\",\n",
    "                \"landing_date\",\n",
    "                \"amount_in_kg\",\n",
    "            ]\n",
    "        ]\n",
    "    )\n",
    "    .rename(columns={\"seasonal_day\": \"catch_day\", \"seasonal_year\": \"season\"})\n",
    ")\n",
    "\n",
    "last_days[\"first_or_last\"] = \"last\"\n",
    "\n",
    "locality_seasons = pd.concat([first_days, last_days]).sort_values(\n",
    "    [\"season\", \"sellers_locality\"]\n",
    ")\n",
    "\n",
    "field_code_info = pd.read_csv(\"../data/fieldcodes.csv\")\n",
    "\n",
    "locality_seasons = locality_seasons.merge(\n",
    "    field_code_info, left_on=\"field_code\", right_on=\"fieldcode\"\n",
    ").drop(columns=\"fieldcode\")\n",
    "\n",
    "locality_seasons = locality_seasons[\n",
    "    [\n",
    "        \"season\",\n",
    "        \"sellers_locality\",\n",
    "        \"landing_date\",\n",
    "        \"first_or_last\",\n",
    "        \"catch_day\",\n",
    "        \"amount_in_kg\",\n",
    "        \"field_code\",\n",
    "        \"lat\",\n",
    "        \"lon\",\n",
    "    ]\n",
    "].sort_values([\"season\", \"sellers_locality\"])\n",
    "\n",
    "locality_seasons.to_csv(\"../data/locality_seasons.csv\", index=None)"
   ]
  },
  {
   "cell_type": "markdown",
   "metadata": {},
   "source": [
    "### Local First and Last Catch Days, 2012-2022\n"
   ]
  },
  {
   "cell_type": "code",
   "execution_count": null,
   "metadata": {},
   "outputs": [],
   "source": [
    "local_first_catch_dates = (\n",
    "    local_daily_catch.groupby(by=[\"seasonal_year\", \"field_code\", \"sellers_locality\"])\n",
    "    .seasonal_day.min()\n",
    "    .reset_index()\n",
    "    .rename(columns={\"seasonal_day\": \"first_catch_day\", \"seasonal_year\": \"season\"})\n",
    ")\n",
    "\n",
    "local_first_catch_dates.to_csv(\"../data/local_first_catch_dates.csv\")\n",
    "\n",
    "local_last_catch_dates = (\n",
    "    local_daily_catch.groupby(by=[\"seasonal_year\", \"field_code\", \"sellers_locality\"])\n",
    "    .seasonal_day.max()\n",
    "    .reset_index()\n",
    "    .rename(columns={\"seasonal_day\": \"last_catch_day\", \"seasonal_year\": \"season\"})\n",
    ")\n",
    "\n",
    "local_last_catch_dates.to_csv(\"../data/local_last_catch_dates.csv\")"
   ]
  },
  {
   "cell_type": "markdown",
   "metadata": {},
   "source": [
    "### Local Ice Season Length\n"
   ]
  },
  {
   "cell_type": "code",
   "execution_count": null,
   "metadata": {},
   "outputs": [],
   "source": [
    "local_ice_season_length = (\n",
    "    local_last_catch.set_index([\"season\", \"field_code\"]).last_catch_day\n",
    "    - local_first_catch.set_index([\"season\", \"field_code\"]).first_catch_day\n",
    ").reset_index(name=\"ice_season_length\")\n",
    "\n",
    "local_ice_season_length"
   ]
  },
  {
   "cell_type": "code",
   "execution_count": null,
   "metadata": {},
   "outputs": [],
   "source": [
    "# todo\n",
    "# derived\n",
    "# Only consider fields that appear in every season\n",
    "# fields_of_interest = set.intersection(*local_ice_season_length.groupby(by=['season']).field_code.unique().apply(lambda x: set(x)).values)\n",
    "\n",
    "\n",
    "# local_ice_season_length[local_ice_season_length.field_code.isin(fields_of_interest)].groupby('field_code').corr(method='kendall').unstack()['season']['ice_season_length']"
   ]
  },
  {
   "cell_type": "markdown",
   "metadata": {},
   "source": [
    "### Number of Fields Fished, 2012-2022\n"
   ]
  },
  {
   "cell_type": "code",
   "execution_count": null,
   "metadata": {},
   "outputs": [],
   "source": [
    "num_fields = (\n",
    "    local_first_catch.groupby(\"season\")\n",
    "    .field_code.nunique()\n",
    "    .rename(\"n_fields\")\n",
    "    .reset_index()\n",
    ")\n",
    "\n",
    "num_fields.to_csv(\"../data/num_fields.csv\")"
   ]
  },
  {
   "cell_type": "markdown",
   "metadata": {},
   "source": [
    "### Local Number of Fields Fished, 2012-2022\n"
   ]
  },
  {
   "cell_type": "code",
   "execution_count": null,
   "metadata": {},
   "outputs": [],
   "source": [
    "local_num_fields = (\n",
    "    ice_landings.groupby(by=[\"seasonal_year\", \"sellers_locality\"])\n",
    "    .field_code.nunique()\n",
    "    .reset_index()\n",
    "    .rename(columns={\"field_code\": \"n_fields\"})\n",
    ")\n",
    "local_num_fields\n",
    "\n",
    "local_num_fields.to_csv(\"../data/local_num_fields.csv\")"
   ]
  },
  {
   "cell_type": "markdown",
   "metadata": {},
   "source": [
    "### Fishing Grounds, by Locality, by Vessel Type, by Field Code, by Seasonal Year\n"
   ]
  },
  {
   "cell_type": "code",
   "execution_count": null,
   "metadata": {},
   "outputs": [],
   "source": [
    "fishing_grounds = (\n",
    "    landings.groupby(\n",
    "        by=[\"seasonal_year\", \"sellers_locality\", \"vessel_type\", \"field_code\"]\n",
    "    )\n",
    "    .seller_id.nunique()\n",
    "    .reset_index()\n",
    "    .drop(columns=\"seller_id\")\n",
    ")\n",
    "\n",
    "fishing_grounds[\"lon\"] = fishing_grounds.field_code.map(\n",
    "    lambda x: field_code_info[x][\"lon\"]\n",
    ")\n",
    "fishing_grounds[\"lat\"] = fishing_grounds.field_code.map(\n",
    "    lambda x: field_code_info[x][\"lat\"]\n",
    ")\n",
    "\n",
    "fishing_grounds.to_csv(\"../data/fishing_grounds.csv\")"
   ]
  }
 ],
 "metadata": {
  "kernelspec": {
   "display_name": "base",
   "language": "python",
   "name": "python3"
  },
  "language_info": {
   "codemirror_mode": {
    "name": "ipython",
    "version": 3
   },
   "file_extension": ".py",
   "mimetype": "text/x-python",
   "name": "python",
   "nbconvert_exporter": "python",
   "pygments_lexer": "ipython3",
   "version": "3.12.1"
  }
 },
 "nbformat": 4,
 "nbformat_minor": 2
}
