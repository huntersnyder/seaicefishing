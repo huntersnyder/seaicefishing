{
 "cells": [
  {
   "cell_type": "markdown",
   "metadata": {},
   "source": [
    "# Overview\n",
    "\n",
    "This notebook prepares landings records from the Government of Greenland, Fisheries Department, Fisheries License Control Authority, for the purposes of reproducing the results of the sea ice fishing study."
   ]
  },
  {
   "cell_type": "markdown",
   "metadata": {},
   "source": [
    "## Load Packages"
   ]
  },
  {
   "cell_type": "code",
   "execution_count": 56,
   "metadata": {},
   "outputs": [],
   "source": [
    "import datetime as dt\n",
    "import matplotlib.pyplot as plt\n",
    "import pandas as pd\n",
    "import numpy as np\n",
    "import seaborn as sns\n",
    "from sklearn.covariance import EllipticEnvelope\n",
    "from tqdm.notebook import tqdm\n",
    "import json\n",
    "from pathlib import Path"
   ]
  },
  {
   "cell_type": "markdown",
   "metadata": {},
   "source": [
    "## Load and Clean Landings Records"
   ]
  },
  {
   "cell_type": "code",
   "execution_count": 57,
   "metadata": {},
   "outputs": [],
   "source": [
    "landings = pd.read_csv('../data/landings_raw.csv', index_col=0, encoding = \"ISO-8859-1\", low_memory=False)"
   ]
  },
  {
   "cell_type": "markdown",
   "metadata": {},
   "source": [
    "### Create Dictionary of Vessel Types"
   ]
  },
  {
   "cell_type": "code",
   "execution_count": 58,
   "metadata": {},
   "outputs": [],
   "source": [
    "vessels = {\n",
    "    'UJOLLE': None,\n",
    "    'USLAEDE': None,\n",
    "    'Dinghy': 'water',\n",
    "    'Larger Inshore Vessel': 'water',\n",
    "    'Sled': 'ice',\n",
    "    'Snowmobile': 'ice',\n",
    "    'ATV': None,\n",
    "}\n",
    "landings['vessel'] = landings.vessel_type\n",
    "landings['vessel_type'] = landings.vessel.map(vessels)"
   ]
  },
  {
   "cell_type": "markdown",
   "metadata": {},
   "source": [
    "### Correct Erroneous Localities Values"
   ]
  },
  {
   "cell_type": "code",
   "execution_count": 59,
   "metadata": {},
   "outputs": [
    {
     "name": "stdout",
     "output_type": "stream",
     "text": [
      "There are 1662470 entries in the landings dataset.\n"
     ]
    }
   ],
   "source": [
    "# Some localities have the wrong name\n",
    "landings['sellers_locality'] = landings['sellers_locality'].replace({'Tasiusaq, Upernavik': 'Upernavik'})\n",
    "landings['sellers_locality'] = landings['sellers_locality'].replace({'Kuummiit': 'Kuummiut'})\n",
    "landings['sellers_locality'] = landings['sellers_locality'].replace({'Tiileqilaaq': 'Tiniteqilaaq'})\n",
    "\n",
    "# Merge localities \n",
    "landings.loc[landings['sellers_locality'] == 'Aappilattoq Nanortalimmi', 'sellers_locality'] = 'Nanortalik'\n",
    "landings.loc[landings['sellers_locality'] == 'Aappilattoq Upernavimmi', 'sellers_locality'] = 'Upernavik'\n",
    "landings.loc[landings['sellers_locality'] == 'Nuussuaq, Nuuk', 'sellers_locality'] = 'Nuuk'\n",
    "landings.loc[landings['sellers_locality'] == 'Nuussuaq, Upernavik', 'sellers_locality'] = 'Upernavik'\n",
    "landings.loc[landings['sellers_locality'] == 'Tasiusaq Nanortalimmi', 'sellers_locality'] = 'Nanortalik'\n",
    "landings.loc[landings['sellers_locality'] == 'Tasiusaq, Upernavik', 'sellers_locality'] = 'Tasiusaq'\n",
    "landings.loc[landings['sellers_locality'] == 'Kuummiit', 'sellers_locality'] = 'Kuummiut'\n",
    "landings.loc[landings['buyers_locality'] == 'Aappilattoq Nanortalimmi', 'buyers_locality'] = 'Nanortalik'\n",
    "landings.loc[landings['buyers_locality'] == 'Aappilattoq Upernavimmi', 'buyers_locality'] = 'Upernavik'\n",
    "landings.loc[landings['buyers_locality'] == 'Nuussuaq, Nuuk', 'buyers_locality'] = 'Nuuk'\n",
    "landings.loc[landings['buyers_locality'] == 'Nuussuaq, Upernavik', 'buyers_locality'] = 'Upernavik'\n",
    "landings.loc[landings['buyers_locality'] == 'Tasiusaq Nanortalimmi', 'buyers_locality'] = 'Nanortalik'\n",
    "landings.loc[landings['buyers_locality'] == 'Tasiusaq, Upernavik', 'buyers_locality'] = 'Tasiusaq'\n",
    "landings.loc[landings['buyers_locality'] == 'Kuummiit', 'buyers_locality'] = 'Kuummiut'\n",
    "\n",
    "print(f'There are {landings.shape[0]} entries in the landings dataset.')"
   ]
  },
  {
   "cell_type": "markdown",
   "metadata": {},
   "source": [
    "### Correct Gears"
   ]
  },
  {
   "cell_type": "code",
   "execution_count": 60,
   "metadata": {},
   "outputs": [
    {
     "data": {
      "text/plain": [
       "gears\n",
       "Longlines    1053874\n",
       "Gill nets     270563\n",
       "Name: count, dtype: int64"
      ]
     },
     "execution_count": 60,
     "metadata": {},
     "output_type": "execute_result"
    }
   ],
   "source": [
    "landings['gears'] = landings.gear_en.map({\"Set gillnets\": \"Gill nets\", \"Gill nets\": \"Gill nets\", \"Longlines (not specified)\": \"Longlines\"})\n",
    "\n",
    "landings.gears.value_counts()\n"
   ]
  },
  {
   "cell_type": "markdown",
   "metadata": {},
   "source": [
    "### Drop Erroneous Records"
   ]
  },
  {
   "cell_type": "code",
   "execution_count": 61,
   "metadata": {},
   "outputs": [],
   "source": [
    "landings.dropna(subset= \"landing_date\", inplace =True)\n",
    "landings = landings.dropna(subset='num_tools')\n",
    "landings = landings[landings[\"num_tools\"] > 0]"
   ]
  },
  {
   "cell_type": "code",
   "execution_count": 62,
   "metadata": {},
   "outputs": [
    {
     "data": {
      "text/plain": [
       "(1630798, 25)"
      ]
     },
     "execution_count": 62,
     "metadata": {},
     "output_type": "execute_result"
    }
   ],
   "source": [
    "landings.shape"
   ]
  },
  {
   "cell_type": "code",
   "execution_count": 63,
   "metadata": {},
   "outputs": [],
   "source": [
    "landings = landings[~((landings[\"gear_en\"] == \"Longlines\") & (landings[\"num_tools\"] < 30))]"
   ]
  },
  {
   "cell_type": "code",
   "execution_count": 64,
   "metadata": {},
   "outputs": [],
   "source": [
    "landings = landings[landings[\"fishing_time\"] > 0]"
   ]
  },
  {
   "cell_type": "markdown",
   "metadata": {},
   "source": [
    "### Correct Spatial Data Values"
   ]
  },
  {
   "cell_type": "code",
   "execution_count": 65,
   "metadata": {},
   "outputs": [],
   "source": [
    "# Clean up degree symbols\n",
    "landings.latitude = landings.latitude.str.replace('¡', '°')\n",
    "landings.longitude = landings.longitude.str.replace('¡', '°')\n",
    "\n",
    "# Some missing data are okay, but some are an immediate disqualifier for further analysis of that row\n",
    "landings.dropna(subset=['seller_id'], inplace=True)\n",
    "\n",
    "field_codes = pd.read_csv('../data/fieldcodes.csv', index_col='fieldcode')\n",
    "field_codes = field_codes.to_dict(orient='index')\n",
    "\n",
    "def lookup_lat_lon(row):\n",
    "    \"\"\" Find latitude and longitude based on field code \"\"\"\n",
    "    try: \n",
    "        row['latitude'] = field_codes[row['field_code']]['lat']\n",
    "        row['longitude'] = field_codes[row['field_code']]['lon']\n",
    "    except KeyError:\n",
    "        row['latitude'] = None\n",
    "        row['longitude'] = None\n",
    "    return row\n",
    "\n",
    "landings = landings.apply(lookup_lat_lon, axis='columns')"
   ]
  },
  {
   "cell_type": "markdown",
   "metadata": {},
   "source": [
    "## Load Fieldcodes"
   ]
  },
  {
   "cell_type": "code",
   "execution_count": 66,
   "metadata": {},
   "outputs": [],
   "source": [
    "field_code_info = pd.read_csv('../data/fieldcodes.csv', index_col='fieldcode').to_dict(orient='index')\n"
   ]
  },
  {
   "cell_type": "code",
   "execution_count": 67,
   "metadata": {},
   "outputs": [],
   "source": [
    "landings['field_code'] = landings.field_code.str.replace('-', '')"
   ]
  },
  {
   "cell_type": "code",
   "execution_count": 68,
   "metadata": {},
   "outputs": [],
   "source": [
    "def insert_zero_padding(field_code):\n",
    "    try:\n",
    "        return field_code[:2] + f'{int(field_code[2:]):03d}'                \n",
    "    except (ValueError, TypeError):\n",
    "        return field_code\n",
    "    \n",
    "landings['field_code'] = landings.field_code.apply(insert_zero_padding)"
   ]
  },
  {
   "cell_type": "code",
   "execution_count": 69,
   "metadata": {},
   "outputs": [],
   "source": [
    "bad_field_codes = []\n",
    "for field_code in landings.field_code.unique():\n",
    "    if not field_code in field_code_info.keys():\n",
    "        bad_field_codes.append(field_code)\n",
    "\n"
   ]
  },
  {
   "cell_type": "code",
   "execution_count": 70,
   "metadata": {},
   "outputs": [],
   "source": [
    "landings = landings[~landings.field_code.isin(bad_field_codes)]"
   ]
  },
  {
   "cell_type": "markdown",
   "metadata": {},
   "source": [
    "## Load Locality Information"
   ]
  },
  {
   "cell_type": "code",
   "execution_count": 71,
   "metadata": {},
   "outputs": [],
   "source": [
    "locality_info = pd.read_csv('../data/localities_expanded.csv', index_col='TEKST_GL')\n",
    "locality_info.dropna(subset=['KOMMUNE', 'TYPE'], inplace=True)\n",
    "locality_info = locality_info.to_dict(orient='index')\n",
    "\n",
    "def get_municipality(locality):\n",
    "    try:\n",
    "        return locality_info[locality]['KOMMUNE']\n",
    "    except KeyError:\n",
    "        return 'unknown'\n",
    "\n",
    "def get_settlement_size(locality):\n",
    "    try:\n",
    "        return locality_info[locality]['TYPE']\n",
    "    except KeyError:\n",
    "        return 'unknown'\n",
    "\n",
    "landings['sellers_municipality'] = landings.sellers_locality.apply(get_municipality)\n",
    "landings['sellers_settlement_size'] = landings.sellers_locality.apply(get_settlement_size)"
   ]
  },
  {
   "cell_type": "markdown",
   "metadata": {},
   "source": [
    "## Create Derived Variables"
   ]
  },
  {
   "cell_type": "markdown",
   "metadata": {},
   "source": [
    "### Create Seasonal Year"
   ]
  },
  {
   "cell_type": "code",
   "execution_count": 72,
   "metadata": {},
   "outputs": [],
   "source": [
    "landings['landing_date'] =  pd.to_datetime(landings.landing_date)\n",
    "landings['seasonal_year'] = landings.landing_date.apply(lambda x: x.year - 1 if x.month < 8 else x.year)\n",
    "landings = landings.query(\"seasonal_year > 2011 & seasonal_year < 2023\")\n"
   ]
  },
  {
   "cell_type": "markdown",
   "metadata": {},
   "source": [
    "### Calculate Catch Per Unit of Effort (CPUE)"
   ]
  },
  {
   "cell_type": "code",
   "execution_count": 73,
   "metadata": {},
   "outputs": [
    {
     "data": {
      "text/plain": [
       "(1520208, 29)"
      ]
     },
     "execution_count": 73,
     "metadata": {},
     "output_type": "execute_result"
    }
   ],
   "source": [
    "def calculate_cpue(landing):\n",
    "    if landing.gear_en == \"Longlines\":\n",
    "        landing.cpue = landing.amount_in_kg / (landing.num_tools / 100) / landing.fishing_time\n",
    "    elif landing.gear_en == \"Gill nets\":\n",
    "        landing.cpue = landing.amount_in_kg / landing.num_tools / landing.fishing_time\n",
    "    return landing\n",
    "landings[\"cpue\"] = None\n",
    "\n",
    "landings = landings.apply(calculate_cpue, axis=1)\n",
    "landings.shape "
   ]
  },
  {
   "cell_type": "markdown",
   "metadata": {},
   "source": [
    "### Calculate Price Per Kilo (DKK/kg)"
   ]
  },
  {
   "cell_type": "code",
   "execution_count": 74,
   "metadata": {},
   "outputs": [],
   "source": [
    "landings['ppk'] = landings.value / landings.amount_in_kg\n",
    "landings.replace([np.inf, -np.inf], np.nan, inplace=True)\n",
    "landings.dropna(subset=['cpue', 'ppk'], inplace=True)"
   ]
  },
  {
   "cell_type": "markdown",
   "metadata": {},
   "source": [
    "### Outlier Removal"
   ]
  },
  {
   "cell_type": "code",
   "execution_count": 75,
   "metadata": {},
   "outputs": [],
   "source": [
    "def is_outlier(s):\n",
    "    if s.shape[0] < 3:\n",
    "        return s != s\n",
    "    return pd.Series(EllipticEnvelope(support_fraction=0.8).fit_predict(s.values.reshape(-1, 1)) == -1, index=s.index)\n",
    "\n",
    "landings = landings[~landings.groupby('sellers_municipality', group_keys=False)['cpue'].apply(is_outlier)]\n",
    "landings = landings[~landings.groupby('sellers_municipality', group_keys=False)['ppk'].apply(is_outlier)]\n",
    "landings = landings[~landings.groupby('sellers_municipality', group_keys=False)['value'].apply(is_outlier)]"
   ]
  },
  {
   "cell_type": "markdown",
   "metadata": {},
   "source": [
    "## Create Derived Dataframes"
   ]
  },
  {
   "cell_type": "markdown",
   "metadata": {},
   "source": [
    "### Calculate Price Per Kilo According to Locality"
   ]
  },
  {
   "cell_type": "code",
   "execution_count": 76,
   "metadata": {},
   "outputs": [],
   "source": [
    "ppk_locality = landings.groupby(by=['sellers_locality', 'seasonal_year']).ppk.mean().reset_index()\n",
    "\n",
    "ppk_locality\n",
    "\n",
    "ppk_locality.to_csv('../data/ppk_locality.csv')\n",
    "\n"
   ]
  },
  {
   "cell_type": "markdown",
   "metadata": {},
   "source": [
    "### Ice Landings and Water Landings"
   ]
  },
  {
   "cell_type": "code",
   "execution_count": 77,
   "metadata": {},
   "outputs": [],
   "source": [
    "ice_landings = landings.query('vessel_type == \"ice\"')\n",
    "water_landings = landings.query('vessel_type == \"water\"')\n",
    "\n",
    "ice_landings.to_csv('../data/ice_landings.csv')\n",
    "water_landings.to_csv('../data/water_landings.csv')"
   ]
  },
  {
   "cell_type": "markdown",
   "metadata": {},
   "source": [
    "### Total Daily Catch"
   ]
  },
  {
   "cell_type": "code",
   "execution_count": 78,
   "metadata": {},
   "outputs": [],
   "source": [
    "total_daily_catch = ice_landings.groupby(by=['seasonal_year', 'landing_date']).amount_in_kg.sum().reset_index()\n",
    "\n",
    "def calc_seasonal_days(row):   \n",
    "    return (row['landing_date'] - dt.datetime(row['seasonal_year'], 8, 1)).days\n",
    "\n",
    "total_daily_catch['seasonal_day'] = total_daily_catch[['landing_date', 'seasonal_year']].apply(calc_seasonal_days, axis='columns')\n",
    "\n",
    "total_daily_catch['cumulative'] = total_daily_catch.sort_values(by='seasonal_day').groupby(by=['seasonal_year']).amount_in_kg.cumsum()\n",
    "\n",
    "total_daily_catch.to_csv('../data/total_daily_catch.csv')"
   ]
  },
  {
   "cell_type": "markdown",
   "metadata": {},
   "source": [
    "### Local Daily Catch"
   ]
  },
  {
   "cell_type": "code",
   "execution_count": 79,
   "metadata": {},
   "outputs": [],
   "source": [
    "local_daily_catch = landings.query('vessel_type == \"ice\"').groupby(by=['seasonal_year', 'field_code', 'landing_date', 'sellers_locality']).amount_in_kg.sum().reset_index()\n",
    "\n",
    "def calc_seasonal_days(row):   \n",
    "    return (row['landing_date'] - dt.datetime(row['seasonal_year'], 8, 1)).days\n",
    "\n",
    "local_daily_catch['seasonal_day'] = local_daily_catch[['landing_date', 'seasonal_year']].apply(calc_seasonal_days, axis='columns')\n",
    "\n",
    "local_daily_catch['cumulative'] = local_daily_catch.sort_values(by='seasonal_day').groupby(by=['seasonal_year', 'field_code', 'sellers_locality']).amount_in_kg.cumsum()\n",
    "\n",
    "\n",
    "local_daily_catch.to_csv('../data/local_daily_catch.csv')"
   ]
  },
  {
   "cell_type": "markdown",
   "metadata": {},
   "source": [
    "### Local First Catch"
   ]
  },
  {
   "cell_type": "code",
   "execution_count": 80,
   "metadata": {},
   "outputs": [],
   "source": [
    "local_first_catch = local_daily_catch.groupby(by=['seasonal_year', 'field_code', 'sellers_locality']).seasonal_day.min().reset_index()\\\n",
    "    .rename(columns={'seasonal_day': 'first_catch_day', 'seasonal_year': 'season'})\n",
    "\n",
    "local_first_catch.to_csv('../data/local_first_catch.csv')"
   ]
  },
  {
   "cell_type": "markdown",
   "metadata": {},
   "source": [
    "### Local Last Catch"
   ]
  },
  {
   "cell_type": "code",
   "execution_count": 81,
   "metadata": {},
   "outputs": [
    {
     "data": {
      "text/html": [
       "<div>\n",
       "<style scoped>\n",
       "    .dataframe tbody tr th:only-of-type {\n",
       "        vertical-align: middle;\n",
       "    }\n",
       "\n",
       "    .dataframe tbody tr th {\n",
       "        vertical-align: top;\n",
       "    }\n",
       "\n",
       "    .dataframe thead th {\n",
       "        text-align: right;\n",
       "    }\n",
       "</style>\n",
       "<table border=\"1\" class=\"dataframe\">\n",
       "  <thead>\n",
       "    <tr style=\"text-align: right;\">\n",
       "      <th></th>\n",
       "      <th>season</th>\n",
       "      <th>field_code</th>\n",
       "      <th>sellers_locality</th>\n",
       "      <th>last_catch_day</th>\n",
       "    </tr>\n",
       "  </thead>\n",
       "  <tbody>\n",
       "    <tr>\n",
       "      <th>0</th>\n",
       "      <td>2012</td>\n",
       "      <td>LN028</td>\n",
       "      <td>Qeqertaq</td>\n",
       "      <td>218</td>\n",
       "    </tr>\n",
       "    <tr>\n",
       "      <th>1</th>\n",
       "      <td>2012</td>\n",
       "      <td>LP028</td>\n",
       "      <td>Qeqertaq</td>\n",
       "      <td>230</td>\n",
       "    </tr>\n",
       "    <tr>\n",
       "      <th>2</th>\n",
       "      <td>2012</td>\n",
       "      <td>LP028</td>\n",
       "      <td>Saqqaq</td>\n",
       "      <td>222</td>\n",
       "    </tr>\n",
       "    <tr>\n",
       "      <th>3</th>\n",
       "      <td>2012</td>\n",
       "      <td>LX025</td>\n",
       "      <td>Uummannaq</td>\n",
       "      <td>252</td>\n",
       "    </tr>\n",
       "    <tr>\n",
       "      <th>4</th>\n",
       "      <td>2012</td>\n",
       "      <td>LX027</td>\n",
       "      <td>Niaqornat</td>\n",
       "      <td>198</td>\n",
       "    </tr>\n",
       "    <tr>\n",
       "      <th>...</th>\n",
       "      <td>...</td>\n",
       "      <td>...</td>\n",
       "      <td>...</td>\n",
       "      <td>...</td>\n",
       "    </tr>\n",
       "    <tr>\n",
       "      <th>391</th>\n",
       "      <td>2021</td>\n",
       "      <td>MX009</td>\n",
       "      <td>Innaarsuit</td>\n",
       "      <td>234</td>\n",
       "    </tr>\n",
       "    <tr>\n",
       "      <th>392</th>\n",
       "      <td>2021</td>\n",
       "      <td>MZ008</td>\n",
       "      <td>Innaarsuit</td>\n",
       "      <td>232</td>\n",
       "    </tr>\n",
       "    <tr>\n",
       "      <th>393</th>\n",
       "      <td>2021</td>\n",
       "      <td>NA008</td>\n",
       "      <td>Upernavik</td>\n",
       "      <td>264</td>\n",
       "    </tr>\n",
       "    <tr>\n",
       "      <th>394</th>\n",
       "      <td>2021</td>\n",
       "      <td>NB008</td>\n",
       "      <td>Upernavik</td>\n",
       "      <td>246</td>\n",
       "    </tr>\n",
       "    <tr>\n",
       "      <th>395</th>\n",
       "      <td>2022</td>\n",
       "      <td>MX009</td>\n",
       "      <td>Innaarsuit</td>\n",
       "      <td>116</td>\n",
       "    </tr>\n",
       "  </tbody>\n",
       "</table>\n",
       "<p>396 rows × 4 columns</p>\n",
       "</div>"
      ],
      "text/plain": [
       "     season field_code sellers_locality  last_catch_day\n",
       "0      2012      LN028         Qeqertaq             218\n",
       "1      2012      LP028         Qeqertaq             230\n",
       "2      2012      LP028           Saqqaq             222\n",
       "3      2012      LX025        Uummannaq             252\n",
       "4      2012      LX027        Niaqornat             198\n",
       "..      ...        ...              ...             ...\n",
       "391    2021      MX009       Innaarsuit             234\n",
       "392    2021      MZ008       Innaarsuit             232\n",
       "393    2021      NA008        Upernavik             264\n",
       "394    2021      NB008        Upernavik             246\n",
       "395    2022      MX009       Innaarsuit             116\n",
       "\n",
       "[396 rows x 4 columns]"
      ]
     },
     "execution_count": 81,
     "metadata": {},
     "output_type": "execute_result"
    }
   ],
   "source": [
    "local_last_catch = local_daily_catch.groupby(by=['seasonal_year', 'field_code', 'sellers_locality']).seasonal_day.max().reset_index()\\\n",
    "    .rename(columns={'seasonal_day': 'last_catch_day', 'seasonal_year': 'season'})\n",
    "local_last_catch.to_csv('../data/local_last_catch.csv')\n",
    "\n",
    "local_last_catch_dates"
   ]
  },
  {
   "cell_type": "markdown",
   "metadata": {},
   "source": [
    "## Season Length (First/Last Catch Criteria)"
   ]
  },
  {
   "cell_type": "code",
   "execution_count": 82,
   "metadata": {},
   "outputs": [],
   "source": [
    "total_first_catch = total_daily_catch.groupby(by=['seasonal_year']).seasonal_day.min().reset_index()\\\n",
    "    .rename(columns={'seasonal_day': 'first_catch_day', 'seasonal_year': 'season'})\n",
    "\n",
    "total_last_catch = total_daily_catch.groupby(by=['seasonal_year']).seasonal_day.max().reset_index()\\\n",
    "    .rename(columns={'seasonal_day': 'last_catch_day', 'seasonal_year': 'season'})\n",
    "\n",
    "total_ice_season_length = total_last_catch.set_index('season').last_catch_day - total_first_catch.set_index('season').first_catch_day\n",
    "total_ice_season_length = total_ice_season_length.reset_index(name='ice_season_length')\n",
    "\n",
    "total_first_catch.to_csv('../data/total_first_catch.csv')\n",
    "total_last_catch.to_csv('../data/total_last_catch.csv')\n",
    "total_ice_season_length.to_csv('../data/total_ice_season_length.csv')"
   ]
  },
  {
   "cell_type": "markdown",
   "metadata": {},
   "source": [
    "### First and Last Days, by Locality, 2012-2022"
   ]
  },
  {
   "cell_type": "code",
   "execution_count": 83,
   "metadata": {},
   "outputs": [],
   "source": [
    "first_days = (\n",
    "   local_daily_catch\n",
    "   .groupby(by=['seasonal_year', 'sellers_locality'])\n",
    "   .seasonal_day.min()\n",
    "   .reset_index()\n",
    "   .merge(\n",
    "      local_daily_catch[['seasonal_year', 'sellers_locality', 'field_code', 'seasonal_day', 'landing_date', 'amount_in_kg']]\n",
    "      )\n",
    "   .rename(columns={'seasonal_day': 'catch_day', 'seasonal_year': 'season'})\n",
    ") \n",
    "\n",
    "first_days['first_or_last'] = 'first'\n",
    "\n",
    "last_days = (\n",
    "   local_daily_catch\n",
    "   .groupby(by=['seasonal_year', 'sellers_locality'])\n",
    "   .seasonal_day.max()\n",
    "   .reset_index()\n",
    "   .merge(\n",
    "      local_daily_catch[['seasonal_year', 'sellers_locality', 'field_code', 'seasonal_day', 'landing_date', 'amount_in_kg']]\n",
    "      )\n",
    "   .rename(columns={'seasonal_day': 'catch_day', 'seasonal_year': 'season'})\n",
    ") \n",
    "\n",
    "last_days['first_or_last'] = 'last'\n",
    "\n",
    "locality_seasons = (\n",
    "    pd.concat([first_days, last_days])\n",
    "    .sort_values(['season', 'sellers_locality'])\n",
    ")\n",
    "\n",
    "field_code_info = pd.read_csv(\"../data/fieldcodes.csv\")\n",
    "\n",
    "locality_seasons = (\n",
    "    locality_seasons\n",
    "    .merge(field_code_info, left_on = 'field_code', right_on = 'fieldcode')\n",
    "    .drop(columns = 'fieldcode')\n",
    ")\n",
    "\n",
    "locality_seasons = locality_seasons[['season', 'sellers_locality',  'landing_date','first_or_last', 'catch_day', 'amount_in_kg', 'field_code', 'lat', 'lon']].sort_values(['season', 'sellers_locality'])\n",
    "\n",
    "locality_seasons.to_csv(\"../data/locality_seasons.csv\", index = None)\n"
   ]
  },
  {
   "cell_type": "markdown",
   "metadata": {},
   "source": [
    "### Local First and Last Catch Days, 2012-2022"
   ]
  },
  {
   "cell_type": "code",
   "execution_count": 84,
   "metadata": {},
   "outputs": [],
   "source": [
    "local_first_catch_dates = local_daily_catch.groupby(by=['seasonal_year', 'field_code', 'sellers_locality']).seasonal_day.min().reset_index()\\\n",
    "    .rename(columns={'seasonal_day': 'first_catch_day', 'seasonal_year': 'season'})\n",
    "\n",
    "local_first_catch_dates.to_csv('../data/local_first_catch_dates.csv')\n",
    "\n",
    "local_last_catch_dates = local_daily_catch.groupby(by=['seasonal_year', 'field_code', 'sellers_locality']).seasonal_day.max().reset_index()\\\n",
    "    .rename(columns={'seasonal_day': 'last_catch_day', 'seasonal_year': 'season'})\n",
    "\n",
    "local_last_catch_dates.to_csv('../data/local_last_catch_dates.csv')"
   ]
  },
  {
   "cell_type": "markdown",
   "metadata": {},
   "source": [
    "### Local Ice Season Length"
   ]
  },
  {
   "cell_type": "code",
   "execution_count": 89,
   "metadata": {},
   "outputs": [
    {
     "data": {
      "text/html": [
       "<div>\n",
       "<style scoped>\n",
       "    .dataframe tbody tr th:only-of-type {\n",
       "        vertical-align: middle;\n",
       "    }\n",
       "\n",
       "    .dataframe tbody tr th {\n",
       "        vertical-align: top;\n",
       "    }\n",
       "\n",
       "    .dataframe thead th {\n",
       "        text-align: right;\n",
       "    }\n",
       "</style>\n",
       "<table border=\"1\" class=\"dataframe\">\n",
       "  <thead>\n",
       "    <tr style=\"text-align: right;\">\n",
       "      <th></th>\n",
       "      <th>season</th>\n",
       "      <th>field_code</th>\n",
       "      <th>ice_season_length</th>\n",
       "    </tr>\n",
       "  </thead>\n",
       "  <tbody>\n",
       "    <tr>\n",
       "      <th>0</th>\n",
       "      <td>2012</td>\n",
       "      <td>LN028</td>\n",
       "      <td>0</td>\n",
       "    </tr>\n",
       "    <tr>\n",
       "      <th>1</th>\n",
       "      <td>2012</td>\n",
       "      <td>LP028</td>\n",
       "      <td>63</td>\n",
       "    </tr>\n",
       "    <tr>\n",
       "      <th>2</th>\n",
       "      <td>2012</td>\n",
       "      <td>LP028</td>\n",
       "      <td>0</td>\n",
       "    </tr>\n",
       "    <tr>\n",
       "      <th>3</th>\n",
       "      <td>2012</td>\n",
       "      <td>LX025</td>\n",
       "      <td>0</td>\n",
       "    </tr>\n",
       "    <tr>\n",
       "      <th>4</th>\n",
       "      <td>2012</td>\n",
       "      <td>LX027</td>\n",
       "      <td>0</td>\n",
       "    </tr>\n",
       "    <tr>\n",
       "      <th>...</th>\n",
       "      <td>...</td>\n",
       "      <td>...</td>\n",
       "      <td>...</td>\n",
       "    </tr>\n",
       "    <tr>\n",
       "      <th>391</th>\n",
       "      <td>2021</td>\n",
       "      <td>MX009</td>\n",
       "      <td>9</td>\n",
       "    </tr>\n",
       "    <tr>\n",
       "      <th>392</th>\n",
       "      <td>2021</td>\n",
       "      <td>MZ008</td>\n",
       "      <td>18</td>\n",
       "    </tr>\n",
       "    <tr>\n",
       "      <th>393</th>\n",
       "      <td>2021</td>\n",
       "      <td>NA008</td>\n",
       "      <td>0</td>\n",
       "    </tr>\n",
       "    <tr>\n",
       "      <th>394</th>\n",
       "      <td>2021</td>\n",
       "      <td>NB008</td>\n",
       "      <td>6</td>\n",
       "    </tr>\n",
       "    <tr>\n",
       "      <th>395</th>\n",
       "      <td>2022</td>\n",
       "      <td>MX009</td>\n",
       "      <td>0</td>\n",
       "    </tr>\n",
       "  </tbody>\n",
       "</table>\n",
       "<p>396 rows × 3 columns</p>\n",
       "</div>"
      ],
      "text/plain": [
       "     season field_code  ice_season_length\n",
       "0      2012      LN028                  0\n",
       "1      2012      LP028                 63\n",
       "2      2012      LP028                  0\n",
       "3      2012      LX025                  0\n",
       "4      2012      LX027                  0\n",
       "..      ...        ...                ...\n",
       "391    2021      MX009                  9\n",
       "392    2021      MZ008                 18\n",
       "393    2021      NA008                  0\n",
       "394    2021      NB008                  6\n",
       "395    2022      MX009                  0\n",
       "\n",
       "[396 rows x 3 columns]"
      ]
     },
     "execution_count": 89,
     "metadata": {},
     "output_type": "execute_result"
    }
   ],
   "source": [
    "local_ice_season_length = (local_last_catch.set_index(['season', 'field_code']).last_catch_day - local_first_catch.set_index(['season', 'field_code']).first_catch_day).reset_index(name='ice_season_length')\n",
    "\n",
    "local_ice_season_length"
   ]
  },
  {
   "cell_type": "code",
   "execution_count": null,
   "metadata": {},
   "outputs": [],
   "source": [
    "#todo\n",
    "#derived\n",
    "# Only consider fields that appear in every season\n",
    "#fields_of_interest = set.intersection(*local_ice_season_length.groupby(by=['season']).field_code.unique().apply(lambda x: set(x)).values)\n",
    "\n",
    "\n",
    "#local_ice_season_length[local_ice_season_length.field_code.isin(fields_of_interest)].groupby('field_code').corr(method='kendall').unstack()['season']['ice_season_length']"
   ]
  },
  {
   "cell_type": "markdown",
   "metadata": {},
   "source": [
    "### Number of Fields Fished, 2012-2022"
   ]
  },
  {
   "cell_type": "code",
   "execution_count": 94,
   "metadata": {},
   "outputs": [],
   "source": [
    "num_fields = local_first_catch.groupby('season').field_code.nunique().rename('n_fields').reset_index()\n",
    "\n",
    "num_fields.to_csv('../data/num_fields.csv')"
   ]
  },
  {
   "cell_type": "markdown",
   "metadata": {},
   "source": [
    "### Local Number of Fields Fished, 2012-2022"
   ]
  },
  {
   "cell_type": "code",
   "execution_count": 96,
   "metadata": {},
   "outputs": [],
   "source": [
    "local_num_fields = ice_landings.groupby(by=['seasonal_year', 'sellers_locality']).field_code.nunique().reset_index().rename(columns={'field_code': 'n_fields'})\n",
    "local_num_fields\n",
    "\n",
    "local_num_fields.to_csv('../data/local_num_fields.csv')"
   ]
  },
  {
   "cell_type": "markdown",
   "metadata": {},
   "source": [
    "### Fishing Grounds, by Locality, by Vessel Type, by Field Code, by Seasonal Year"
   ]
  },
  {
   "cell_type": "code",
   "execution_count": 101,
   "metadata": {},
   "outputs": [
    {
     "ename": "KeyError",
     "evalue": "'LA019'",
     "output_type": "error",
     "traceback": [
      "\u001b[0;31m---------------------------------------------------------------------------\u001b[0m",
      "\u001b[0;31mKeyError\u001b[0m                                  Traceback (most recent call last)",
      "\u001b[0;32m~/opt/anaconda3/lib/python3.9/site-packages/pandas/core/indexes/base.py\u001b[0m in \u001b[0;36mget_loc\u001b[0;34m(self, key)\u001b[0m\n\u001b[1;32m   3789\u001b[0m         \u001b[0;32mtry\u001b[0m\u001b[0;34m:\u001b[0m\u001b[0;34m\u001b[0m\u001b[0;34m\u001b[0m\u001b[0m\n\u001b[0;32m-> 3790\u001b[0;31m             \u001b[0;32mreturn\u001b[0m \u001b[0mself\u001b[0m\u001b[0;34m.\u001b[0m\u001b[0m_engine\u001b[0m\u001b[0;34m.\u001b[0m\u001b[0mget_loc\u001b[0m\u001b[0;34m(\u001b[0m\u001b[0mcasted_key\u001b[0m\u001b[0;34m)\u001b[0m\u001b[0;34m\u001b[0m\u001b[0;34m\u001b[0m\u001b[0m\n\u001b[0m\u001b[1;32m   3791\u001b[0m         \u001b[0;32mexcept\u001b[0m \u001b[0mKeyError\u001b[0m \u001b[0;32mas\u001b[0m \u001b[0merr\u001b[0m\u001b[0;34m:\u001b[0m\u001b[0;34m\u001b[0m\u001b[0;34m\u001b[0m\u001b[0m\n",
      "\u001b[0;32mindex.pyx\u001b[0m in \u001b[0;36mpandas._libs.index.IndexEngine.get_loc\u001b[0;34m()\u001b[0m\n",
      "\u001b[0;32mindex.pyx\u001b[0m in \u001b[0;36mpandas._libs.index.IndexEngine.get_loc\u001b[0;34m()\u001b[0m\n",
      "\u001b[0;32mpandas/_libs/hashtable_class_helper.pxi\u001b[0m in \u001b[0;36mpandas._libs.hashtable.PyObjectHashTable.get_item\u001b[0;34m()\u001b[0m\n",
      "\u001b[0;32mpandas/_libs/hashtable_class_helper.pxi\u001b[0m in \u001b[0;36mpandas._libs.hashtable.PyObjectHashTable.get_item\u001b[0;34m()\u001b[0m\n",
      "\u001b[0;31mKeyError\u001b[0m: 'LA019'",
      "\nThe above exception was the direct cause of the following exception:\n",
      "\u001b[0;31mKeyError\u001b[0m                                  Traceback (most recent call last)",
      "\u001b[0;32m/var/folders/4f/0mrpq3dn0tdg8ssxbsgsvt0m0000gn/T/ipykernel_27056/1251175626.py\u001b[0m in \u001b[0;36m<module>\u001b[0;34m\u001b[0m\n\u001b[1;32m      1\u001b[0m \u001b[0mfishing_grounds\u001b[0m \u001b[0;34m=\u001b[0m \u001b[0mlandings\u001b[0m\u001b[0;34m.\u001b[0m\u001b[0mgroupby\u001b[0m\u001b[0;34m(\u001b[0m\u001b[0mby\u001b[0m\u001b[0;34m=\u001b[0m\u001b[0;34m[\u001b[0m\u001b[0;34m'seasonal_year'\u001b[0m\u001b[0;34m,\u001b[0m \u001b[0;34m'sellers_locality'\u001b[0m\u001b[0;34m,\u001b[0m \u001b[0;34m'vessel_type'\u001b[0m\u001b[0;34m,\u001b[0m \u001b[0;34m'field_code'\u001b[0m\u001b[0;34m]\u001b[0m\u001b[0;34m)\u001b[0m\u001b[0;34m.\u001b[0m\u001b[0mseller_id\u001b[0m\u001b[0;34m.\u001b[0m\u001b[0mnunique\u001b[0m\u001b[0;34m(\u001b[0m\u001b[0;34m)\u001b[0m\u001b[0;34m.\u001b[0m\u001b[0mreset_index\u001b[0m\u001b[0;34m(\u001b[0m\u001b[0;34m)\u001b[0m\u001b[0;34m.\u001b[0m\u001b[0mdrop\u001b[0m\u001b[0;34m(\u001b[0m\u001b[0mcolumns\u001b[0m\u001b[0;34m=\u001b[0m\u001b[0;34m'seller_id'\u001b[0m\u001b[0;34m)\u001b[0m\u001b[0;34m\u001b[0m\u001b[0;34m\u001b[0m\u001b[0m\n\u001b[1;32m      2\u001b[0m \u001b[0;34m\u001b[0m\u001b[0m\n\u001b[0;32m----> 3\u001b[0;31m \u001b[0mfishing_grounds\u001b[0m\u001b[0;34m[\u001b[0m\u001b[0;34m'lon'\u001b[0m\u001b[0;34m]\u001b[0m \u001b[0;34m=\u001b[0m \u001b[0mfishing_grounds\u001b[0m\u001b[0;34m.\u001b[0m\u001b[0mfield_code\u001b[0m\u001b[0;34m.\u001b[0m\u001b[0mmap\u001b[0m\u001b[0;34m(\u001b[0m\u001b[0;32mlambda\u001b[0m \u001b[0mx\u001b[0m\u001b[0;34m:\u001b[0m \u001b[0mfield_code_info\u001b[0m\u001b[0;34m[\u001b[0m\u001b[0mx\u001b[0m\u001b[0;34m]\u001b[0m\u001b[0;34m[\u001b[0m\u001b[0;34m'lon'\u001b[0m\u001b[0;34m]\u001b[0m\u001b[0;34m)\u001b[0m\u001b[0;34m\u001b[0m\u001b[0;34m\u001b[0m\u001b[0m\n\u001b[0m\u001b[1;32m      4\u001b[0m \u001b[0mfishing_grounds\u001b[0m\u001b[0;34m[\u001b[0m\u001b[0;34m'lat'\u001b[0m\u001b[0;34m]\u001b[0m \u001b[0;34m=\u001b[0m \u001b[0mfishing_grounds\u001b[0m\u001b[0;34m.\u001b[0m\u001b[0mfield_code\u001b[0m\u001b[0;34m.\u001b[0m\u001b[0mmap\u001b[0m\u001b[0;34m(\u001b[0m\u001b[0;32mlambda\u001b[0m \u001b[0mx\u001b[0m\u001b[0;34m:\u001b[0m \u001b[0mfield_code_info\u001b[0m\u001b[0;34m[\u001b[0m\u001b[0mx\u001b[0m\u001b[0;34m]\u001b[0m\u001b[0;34m[\u001b[0m\u001b[0;34m'lat'\u001b[0m\u001b[0;34m]\u001b[0m\u001b[0;34m)\u001b[0m\u001b[0;34m\u001b[0m\u001b[0;34m\u001b[0m\u001b[0m\n\u001b[1;32m      5\u001b[0m \u001b[0;34m\u001b[0m\u001b[0m\n",
      "\u001b[0;32m~/opt/anaconda3/lib/python3.9/site-packages/pandas/core/series.py\u001b[0m in \u001b[0;36mmap\u001b[0;34m(self, arg, na_action)\u001b[0m\n\u001b[1;32m   4538\u001b[0m         \u001b[0mdtype\u001b[0m\u001b[0;34m:\u001b[0m \u001b[0mobject\u001b[0m\u001b[0;34m\u001b[0m\u001b[0;34m\u001b[0m\u001b[0m\n\u001b[1;32m   4539\u001b[0m         \"\"\"\n\u001b[0;32m-> 4540\u001b[0;31m         \u001b[0mnew_values\u001b[0m \u001b[0;34m=\u001b[0m \u001b[0mself\u001b[0m\u001b[0;34m.\u001b[0m\u001b[0m_map_values\u001b[0m\u001b[0;34m(\u001b[0m\u001b[0marg\u001b[0m\u001b[0;34m,\u001b[0m \u001b[0mna_action\u001b[0m\u001b[0;34m=\u001b[0m\u001b[0mna_action\u001b[0m\u001b[0;34m)\u001b[0m\u001b[0;34m\u001b[0m\u001b[0;34m\u001b[0m\u001b[0m\n\u001b[0m\u001b[1;32m   4541\u001b[0m         return self._constructor(new_values, index=self.index, copy=False).__finalize__(\n\u001b[1;32m   4542\u001b[0m             \u001b[0mself\u001b[0m\u001b[0;34m,\u001b[0m \u001b[0mmethod\u001b[0m\u001b[0;34m=\u001b[0m\u001b[0;34m\"map\"\u001b[0m\u001b[0;34m\u001b[0m\u001b[0;34m\u001b[0m\u001b[0m\n",
      "\u001b[0;32m~/opt/anaconda3/lib/python3.9/site-packages/pandas/core/base.py\u001b[0m in \u001b[0;36m_map_values\u001b[0;34m(self, mapper, na_action, convert)\u001b[0m\n\u001b[1;32m    919\u001b[0m             \u001b[0;32mreturn\u001b[0m \u001b[0marr\u001b[0m\u001b[0;34m.\u001b[0m\u001b[0mmap\u001b[0m\u001b[0;34m(\u001b[0m\u001b[0mmapper\u001b[0m\u001b[0;34m,\u001b[0m \u001b[0mna_action\u001b[0m\u001b[0;34m=\u001b[0m\u001b[0mna_action\u001b[0m\u001b[0;34m)\u001b[0m\u001b[0;34m\u001b[0m\u001b[0;34m\u001b[0m\u001b[0m\n\u001b[1;32m    920\u001b[0m \u001b[0;34m\u001b[0m\u001b[0m\n\u001b[0;32m--> 921\u001b[0;31m         \u001b[0;32mreturn\u001b[0m \u001b[0malgorithms\u001b[0m\u001b[0;34m.\u001b[0m\u001b[0mmap_array\u001b[0m\u001b[0;34m(\u001b[0m\u001b[0marr\u001b[0m\u001b[0;34m,\u001b[0m \u001b[0mmapper\u001b[0m\u001b[0;34m,\u001b[0m \u001b[0mna_action\u001b[0m\u001b[0;34m=\u001b[0m\u001b[0mna_action\u001b[0m\u001b[0;34m,\u001b[0m \u001b[0mconvert\u001b[0m\u001b[0;34m=\u001b[0m\u001b[0mconvert\u001b[0m\u001b[0;34m)\u001b[0m\u001b[0;34m\u001b[0m\u001b[0;34m\u001b[0m\u001b[0m\n\u001b[0m\u001b[1;32m    922\u001b[0m \u001b[0;34m\u001b[0m\u001b[0m\n\u001b[1;32m    923\u001b[0m     \u001b[0;34m@\u001b[0m\u001b[0mfinal\u001b[0m\u001b[0;34m\u001b[0m\u001b[0;34m\u001b[0m\u001b[0m\n",
      "\u001b[0;32m~/opt/anaconda3/lib/python3.9/site-packages/pandas/core/algorithms.py\u001b[0m in \u001b[0;36mmap_array\u001b[0;34m(arr, mapper, na_action, convert)\u001b[0m\n\u001b[1;32m   1812\u001b[0m     \u001b[0mvalues\u001b[0m \u001b[0;34m=\u001b[0m \u001b[0marr\u001b[0m\u001b[0;34m.\u001b[0m\u001b[0mastype\u001b[0m\u001b[0;34m(\u001b[0m\u001b[0mobject\u001b[0m\u001b[0;34m,\u001b[0m \u001b[0mcopy\u001b[0m\u001b[0;34m=\u001b[0m\u001b[0;32mFalse\u001b[0m\u001b[0;34m)\u001b[0m\u001b[0;34m\u001b[0m\u001b[0;34m\u001b[0m\u001b[0m\n\u001b[1;32m   1813\u001b[0m     \u001b[0;32mif\u001b[0m \u001b[0mna_action\u001b[0m \u001b[0;32mis\u001b[0m \u001b[0;32mNone\u001b[0m\u001b[0;34m:\u001b[0m\u001b[0;34m\u001b[0m\u001b[0;34m\u001b[0m\u001b[0m\n\u001b[0;32m-> 1814\u001b[0;31m         \u001b[0;32mreturn\u001b[0m \u001b[0mlib\u001b[0m\u001b[0;34m.\u001b[0m\u001b[0mmap_infer\u001b[0m\u001b[0;34m(\u001b[0m\u001b[0mvalues\u001b[0m\u001b[0;34m,\u001b[0m \u001b[0mmapper\u001b[0m\u001b[0;34m,\u001b[0m \u001b[0mconvert\u001b[0m\u001b[0;34m=\u001b[0m\u001b[0mconvert\u001b[0m\u001b[0;34m)\u001b[0m\u001b[0;34m\u001b[0m\u001b[0;34m\u001b[0m\u001b[0m\n\u001b[0m\u001b[1;32m   1815\u001b[0m     \u001b[0;32melse\u001b[0m\u001b[0;34m:\u001b[0m\u001b[0;34m\u001b[0m\u001b[0;34m\u001b[0m\u001b[0m\n\u001b[1;32m   1816\u001b[0m         return lib.map_infer_mask(\n",
      "\u001b[0;32mlib.pyx\u001b[0m in \u001b[0;36mpandas._libs.lib.map_infer\u001b[0;34m()\u001b[0m\n",
      "\u001b[0;32m/var/folders/4f/0mrpq3dn0tdg8ssxbsgsvt0m0000gn/T/ipykernel_27056/1251175626.py\u001b[0m in \u001b[0;36m<lambda>\u001b[0;34m(x)\u001b[0m\n\u001b[1;32m      1\u001b[0m \u001b[0mfishing_grounds\u001b[0m \u001b[0;34m=\u001b[0m \u001b[0mlandings\u001b[0m\u001b[0;34m.\u001b[0m\u001b[0mgroupby\u001b[0m\u001b[0;34m(\u001b[0m\u001b[0mby\u001b[0m\u001b[0;34m=\u001b[0m\u001b[0;34m[\u001b[0m\u001b[0;34m'seasonal_year'\u001b[0m\u001b[0;34m,\u001b[0m \u001b[0;34m'sellers_locality'\u001b[0m\u001b[0;34m,\u001b[0m \u001b[0;34m'vessel_type'\u001b[0m\u001b[0;34m,\u001b[0m \u001b[0;34m'field_code'\u001b[0m\u001b[0;34m]\u001b[0m\u001b[0;34m)\u001b[0m\u001b[0;34m.\u001b[0m\u001b[0mseller_id\u001b[0m\u001b[0;34m.\u001b[0m\u001b[0mnunique\u001b[0m\u001b[0;34m(\u001b[0m\u001b[0;34m)\u001b[0m\u001b[0;34m.\u001b[0m\u001b[0mreset_index\u001b[0m\u001b[0;34m(\u001b[0m\u001b[0;34m)\u001b[0m\u001b[0;34m.\u001b[0m\u001b[0mdrop\u001b[0m\u001b[0;34m(\u001b[0m\u001b[0mcolumns\u001b[0m\u001b[0;34m=\u001b[0m\u001b[0;34m'seller_id'\u001b[0m\u001b[0;34m)\u001b[0m\u001b[0;34m\u001b[0m\u001b[0;34m\u001b[0m\u001b[0m\n\u001b[1;32m      2\u001b[0m \u001b[0;34m\u001b[0m\u001b[0m\n\u001b[0;32m----> 3\u001b[0;31m \u001b[0mfishing_grounds\u001b[0m\u001b[0;34m[\u001b[0m\u001b[0;34m'lon'\u001b[0m\u001b[0;34m]\u001b[0m \u001b[0;34m=\u001b[0m \u001b[0mfishing_grounds\u001b[0m\u001b[0;34m.\u001b[0m\u001b[0mfield_code\u001b[0m\u001b[0;34m.\u001b[0m\u001b[0mmap\u001b[0m\u001b[0;34m(\u001b[0m\u001b[0;32mlambda\u001b[0m \u001b[0mx\u001b[0m\u001b[0;34m:\u001b[0m \u001b[0mfield_code_info\u001b[0m\u001b[0;34m[\u001b[0m\u001b[0mx\u001b[0m\u001b[0;34m]\u001b[0m\u001b[0;34m[\u001b[0m\u001b[0;34m'lon'\u001b[0m\u001b[0;34m]\u001b[0m\u001b[0;34m)\u001b[0m\u001b[0;34m\u001b[0m\u001b[0;34m\u001b[0m\u001b[0m\n\u001b[0m\u001b[1;32m      4\u001b[0m \u001b[0mfishing_grounds\u001b[0m\u001b[0;34m[\u001b[0m\u001b[0;34m'lat'\u001b[0m\u001b[0;34m]\u001b[0m \u001b[0;34m=\u001b[0m \u001b[0mfishing_grounds\u001b[0m\u001b[0;34m.\u001b[0m\u001b[0mfield_code\u001b[0m\u001b[0;34m.\u001b[0m\u001b[0mmap\u001b[0m\u001b[0;34m(\u001b[0m\u001b[0;32mlambda\u001b[0m \u001b[0mx\u001b[0m\u001b[0;34m:\u001b[0m \u001b[0mfield_code_info\u001b[0m\u001b[0;34m[\u001b[0m\u001b[0mx\u001b[0m\u001b[0;34m]\u001b[0m\u001b[0;34m[\u001b[0m\u001b[0;34m'lat'\u001b[0m\u001b[0;34m]\u001b[0m\u001b[0;34m)\u001b[0m\u001b[0;34m\u001b[0m\u001b[0;34m\u001b[0m\u001b[0m\n\u001b[1;32m      5\u001b[0m \u001b[0;34m\u001b[0m\u001b[0m\n",
      "\u001b[0;32m~/opt/anaconda3/lib/python3.9/site-packages/pandas/core/frame.py\u001b[0m in \u001b[0;36m__getitem__\u001b[0;34m(self, key)\u001b[0m\n\u001b[1;32m   3891\u001b[0m             \u001b[0;32mif\u001b[0m \u001b[0mself\u001b[0m\u001b[0;34m.\u001b[0m\u001b[0mcolumns\u001b[0m\u001b[0;34m.\u001b[0m\u001b[0mnlevels\u001b[0m \u001b[0;34m>\u001b[0m \u001b[0;36m1\u001b[0m\u001b[0;34m:\u001b[0m\u001b[0;34m\u001b[0m\u001b[0;34m\u001b[0m\u001b[0m\n\u001b[1;32m   3892\u001b[0m                 \u001b[0;32mreturn\u001b[0m \u001b[0mself\u001b[0m\u001b[0;34m.\u001b[0m\u001b[0m_getitem_multilevel\u001b[0m\u001b[0;34m(\u001b[0m\u001b[0mkey\u001b[0m\u001b[0;34m)\u001b[0m\u001b[0;34m\u001b[0m\u001b[0;34m\u001b[0m\u001b[0m\n\u001b[0;32m-> 3893\u001b[0;31m             \u001b[0mindexer\u001b[0m \u001b[0;34m=\u001b[0m \u001b[0mself\u001b[0m\u001b[0;34m.\u001b[0m\u001b[0mcolumns\u001b[0m\u001b[0;34m.\u001b[0m\u001b[0mget_loc\u001b[0m\u001b[0;34m(\u001b[0m\u001b[0mkey\u001b[0m\u001b[0;34m)\u001b[0m\u001b[0;34m\u001b[0m\u001b[0;34m\u001b[0m\u001b[0m\n\u001b[0m\u001b[1;32m   3894\u001b[0m             \u001b[0;32mif\u001b[0m \u001b[0mis_integer\u001b[0m\u001b[0;34m(\u001b[0m\u001b[0mindexer\u001b[0m\u001b[0;34m)\u001b[0m\u001b[0;34m:\u001b[0m\u001b[0;34m\u001b[0m\u001b[0;34m\u001b[0m\u001b[0m\n\u001b[1;32m   3895\u001b[0m                 \u001b[0mindexer\u001b[0m \u001b[0;34m=\u001b[0m \u001b[0;34m[\u001b[0m\u001b[0mindexer\u001b[0m\u001b[0;34m]\u001b[0m\u001b[0;34m\u001b[0m\u001b[0;34m\u001b[0m\u001b[0m\n",
      "\u001b[0;32m~/opt/anaconda3/lib/python3.9/site-packages/pandas/core/indexes/base.py\u001b[0m in \u001b[0;36mget_loc\u001b[0;34m(self, key)\u001b[0m\n\u001b[1;32m   3795\u001b[0m             ):\n\u001b[1;32m   3796\u001b[0m                 \u001b[0;32mraise\u001b[0m \u001b[0mInvalidIndexError\u001b[0m\u001b[0;34m(\u001b[0m\u001b[0mkey\u001b[0m\u001b[0;34m)\u001b[0m\u001b[0;34m\u001b[0m\u001b[0;34m\u001b[0m\u001b[0m\n\u001b[0;32m-> 3797\u001b[0;31m             \u001b[0;32mraise\u001b[0m \u001b[0mKeyError\u001b[0m\u001b[0;34m(\u001b[0m\u001b[0mkey\u001b[0m\u001b[0;34m)\u001b[0m \u001b[0;32mfrom\u001b[0m \u001b[0merr\u001b[0m\u001b[0;34m\u001b[0m\u001b[0;34m\u001b[0m\u001b[0m\n\u001b[0m\u001b[1;32m   3798\u001b[0m         \u001b[0;32mexcept\u001b[0m \u001b[0mTypeError\u001b[0m\u001b[0;34m:\u001b[0m\u001b[0;34m\u001b[0m\u001b[0;34m\u001b[0m\u001b[0m\n\u001b[1;32m   3799\u001b[0m             \u001b[0;31m# If we have a listlike key, _check_indexing_error will raise\u001b[0m\u001b[0;34m\u001b[0m\u001b[0;34m\u001b[0m\u001b[0m\n",
      "\u001b[0;31mKeyError\u001b[0m: 'LA019'"
     ]
    }
   ],
   "source": [
    "fishing_grounds = landings.groupby(by=['seasonal_year', 'sellers_locality', 'vessel_type', 'field_code']).seller_id.nunique().reset_index().drop(columns='seller_id')\n",
    "\n",
    "fishing_grounds['lon'] = fishing_grounds.field_code.map(lambda x: field_code_info[x]['lon'])\n",
    "fishing_grounds['lat'] = fishing_grounds.field_code.map(lambda x: field_code_info[x]['lat'])\n",
    "\n",
    "fishing_grounds.to_csv('../data/fishing_grounds.csv')"
   ]
  }
 ],
 "metadata": {
  "kernelspec": {
   "display_name": "base",
   "language": "python",
   "name": "python3"
  },
  "language_info": {
   "codemirror_mode": {
    "name": "ipython",
    "version": 3
   },
   "file_extension": ".py",
   "mimetype": "text/x-python",
   "name": "python",
   "nbconvert_exporter": "python",
   "pygments_lexer": "ipython3",
   "version": "3.9.13"
  }
 },
 "nbformat": 4,
 "nbformat_minor": 2
}
