{
 "cells": [
  {
   "cell_type": "code",
   "execution_count": 1,
   "metadata": {},
   "outputs": [],
   "source": [
    "import datetime as dt\n",
    "import matplotlib.pyplot as plt\n",
    "import pandas as pd\n",
    "import seaborn as sns\n",
    "\n",
    "import statsmodels.formula.api as smf\n",
    "\n",
    "import scipy.stats as stats\n",
    "\n",
    "sns.set_theme(style=\"whitegrid\")"
   ]
  },
  {
   "cell_type": "markdown",
   "metadata": {},
   "source": [
    "## Load Landings Records\n"
   ]
  },
  {
   "cell_type": "code",
   "execution_count": 2,
   "metadata": {},
   "outputs": [],
   "source": [
    "landings = pd.read_csv(\"../data/derived/landings_cleaned.csv\", low_memory=False)"
   ]
  },
  {
   "cell_type": "code",
   "execution_count": 3,
   "metadata": {},
   "outputs": [],
   "source": [
    "landings = landings[landings.species_en == \"Greenland halibut\"]"
   ]
  },
  {
   "cell_type": "code",
   "execution_count": 4,
   "metadata": {},
   "outputs": [],
   "source": [
    "landings[\"is_ice\"] = landings.vessel_type.map({\"ice\": 1, \"water\": 0})\n",
    "\n",
    "\n",
    "def weighted_mean(df):\n",
    "    return (df.is_ice * df.value).sum() / df.value.sum()\n",
    "\n",
    "\n",
    "ice_proportion = landings.groupby([\"seasonal_year\", \"seller_id\"]).apply(\n",
    "    weighted_mean, include_groups=False\n",
    ")"
   ]
  },
  {
   "cell_type": "code",
   "execution_count": 5,
   "metadata": {},
   "outputs": [],
   "source": [
    "fisher_type = ice_proportion.rename(\"ice_proportion_of_income\").reset_index()\n",
    "\n",
    "\n",
    "def determine_type(proportion):\n",
    "    if proportion == 0:\n",
    "        return \"water-only\"\n",
    "    if proportion == 1:\n",
    "        return \"ice-only\"\n",
    "    if proportion >= 0.5:\n",
    "        return \"majority-ice\"\n",
    "    return \"majority-water\"\n",
    "\n",
    "\n",
    "fisher_type[\"type\"] = fisher_type.ice_proportion_of_income.apply(determine_type)"
   ]
  },
  {
   "cell_type": "code",
   "execution_count": 6,
   "metadata": {},
   "outputs": [],
   "source": [
    "fisher_type.to_csv(\"../data/derived/fishertypes.csv\", index=None)"
   ]
  }
 ],
 "metadata": {
  "kernelspec": {
   "display_name": ".venv",
   "language": "python",
   "name": "python3"
  },
  "language_info": {
   "codemirror_mode": {
    "name": "ipython",
    "version": 3
   },
   "file_extension": ".py",
   "mimetype": "text/x-python",
   "name": "python",
   "nbconvert_exporter": "python",
   "pygments_lexer": "ipython3",
   "version": "3.12.1"
  }
 },
 "nbformat": 4,
 "nbformat_minor": 2
}
