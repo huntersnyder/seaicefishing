{
   "cells": [
      {
         "cell_type": "markdown",
         "metadata": {},
         "source": [
            "# Overview\n",
            "\n",
            "This notebook prepares landings records from the Government of Greenland, Fisheries Department, Fisheries License Control Authority, for the purposes of reproducing the results of the sea ice fishing study.\n"
         ]
      },
      {
         "cell_type": "markdown",
         "metadata": {},
         "source": [
            "## Load Packages\n"
         ]
      },
      {
         "cell_type": "markdown",
         "metadata": {},
         "source": [
            "This portion of the notebook loads in all of the packages required to run the subsequent code cells.\n"
         ]
      },
      {
         "cell_type": "code",
         "execution_count": 95,
         "metadata": {},
         "outputs": [],
         "source": [
            "import datetime as dt\n",
            "import matplotlib.pyplot as plt\n",
            "import pandas as pd\n",
            "import numpy as np\n",
            "import seaborn as sns\n",
            "from sklearn.covariance import EllipticEnvelope\n",
            "from tqdm.notebook import tqdm\n",
            "import json\n",
            "from pathlib import Path\n",
            "import statsmodels.formula.api as smf\n"
         ]
      },
      {
         "cell_type": "markdown",
         "metadata": {},
         "source": [
            "## Load and Clean Landings Records\n"
         ]
      },
      {
         "cell_type": "markdown",
         "metadata": {},
         "source": [
            "The landings records that are used in the study are originally recorded by hand in the various landing sites, most commonly fish factories. These records are subject to input error, and formatting error. The following actions identify and resolve errors that prevent accurate interpretation of fishing activities.\n"
         ]
      },
      {
         "cell_type": "code",
         "execution_count": 96,
         "metadata": {},
         "outputs": [],
         "source": [
            "landings = pd.read_csv(\n",
            "    \"../data/raw/landings_raw.csv\",\n",
            "    index_col=0,\n",
            "    encoding=\"ISO-8859-1\",\n",
            "    low_memory=False,\n",
            "    na_values=[\"I/O\"],\n",
            ")"
         ]
      },
      {
         "cell_type": "markdown",
         "metadata": {},
         "source": [
            "### Create New Variable for the Vessel Type\n",
            "\n",
            "To evaluate changes in fishing activity on both the water and the ice, we classify the current vessel types into either water or ice vessels. We also change the vessel type variable, which normally contains the individual vessel types, to be either a water or ice vessel. We create a new variable called vessel, which contains the specific type of vessel.\n"
         ]
      },
      {
         "cell_type": "code",
         "execution_count": 97,
         "metadata": {},
         "outputs": [],
         "source": [
            "vessels = {\n",
            "    \"UJOLLE\": None,\n",
            "    \"USLAEDE\": None,\n",
            "    \"Dinghy\": \"water\",\n",
            "    \"Larger Inshore Vessel\": \"water\",\n",
            "    \"Sled\": \"ice\",\n",
            "    \"Snowmobile\": \"ice\",\n",
            "    \"ATV\": None,\n",
            "}\n",
            "landings[\"vessel\"] = landings.vessel_type\n",
            "landings[\"vessel_type\"] = landings.vessel.map(vessels)"
         ]
      },
      {
         "cell_type": "markdown",
         "metadata": {},
         "source": [
            "### Correct Erroneous Localities Values\n",
            "\n",
            "Some of the localities include districts, which complicate interpretation of results. We group some districts into their parent locality.\n"
         ]
      },
      {
         "cell_type": "code",
         "execution_count": 98,
         "metadata": {},
         "outputs": [],
         "source": [
            "wrong_localities = {\n",
            "    \"Aappilattoq Nanortalimmi\": \"Nanortalik\",\n",
            "    \"Aappilattoq Upernavimmi\": \"Upernavik\",\n",
            "    \"Kuummiit\": \"Kuummiut\",\n",
            "    \"Nuussuaq, Nuuk\": \"Nuuk\",\n",
            "    \"Nuussuaq, Upernavik\": \"Upernavik\",\n",
            "    \"Tasiusaq Nanortalimmi\": \"Nanortalik\",\n",
            "    \"Tasiusaq, Nanortalimmi\": \"Nanortalik\",\n",
            "    \"Tasiusaq, Upernavik\": \"Upernavik\",\n",
            "    \"Tiileqilaaq\": \"Tiniteqilaaq\",\n",
            "}\n",
            "\n",
            "landings.sellers_locality = landings.sellers_locality.replace(\n",
            "    to_replace=wrong_localities\n",
            ")\n",
            "landings.buyers_locality = landings.buyers_locality.replace(to_replace=wrong_localities)"
         ]
      },
      {
         "cell_type": "markdown",
         "metadata": {},
         "source": [
            "### Correct Gears\n",
            "\n",
            "Some of the gears described are classified separarely from each other but are the same. We group these together. We also ensure that the number of tools (aka gears) used is greater than 0.\n"
         ]
      },
      {
         "cell_type": "code",
         "execution_count": 99,
         "metadata": {},
         "outputs": [],
         "source": [
            "wrong_gears = {\n",
            "    \"Set gillnets\": \"Gill nets\",\n",
            "    \"Gill nets\": \"Gill nets\",\n",
            "    \"Longlines (not specified)\": \"Longlines\",\n",
            "}\n",
            "\n",
            "landings[\"gears\"] = landings.gear_en.replace(to_replace=wrong_gears)\n",
            "landings = landings[landings[\"num_tools\"] > 0]"
         ]
      },
      {
         "cell_type": "markdown",
         "metadata": {},
         "source": [
            "### Drop Erroneous Records\n",
            "\n",
            "Landing records without the landing date, the seller id, the position of the harvest, or the locality of the seller, are not able to be evaluated. We drop these records. We also drop records where the fishing time indicated is less than zero. Fishing time is used to calculate efficiency of fishing, in the form of catch per unit of effort. When fishing time is missing, catch per unit of effort cannot be calculated.\n"
         ]
      },
      {
         "cell_type": "code",
         "execution_count": 100,
         "metadata": {},
         "outputs": [],
         "source": [
            "# Some missing data are okay, but some are an immediate disqualifier for further analysis of that row\n",
            "landings = landings.dropna(\n",
            "    subset=[\"landing_date\", \"seller_id\", \"field_code\", \"sellers_locality\"]\n",
            ")\n",
            "landings = landings[landings[\"fishing_time\"] > 0]"
         ]
      },
      {
         "cell_type": "markdown",
         "metadata": {},
         "source": [
            "### Clean Up Field Codes\n",
            "\n",
            "Field codes are used to grid cell Greenland's fishing areas. These data come from Greenland Fisheries License Control Authority. The spatial information for each landing in the landing records are dropped and the spatial information for each field code is merged onto the landing records. These information are more accurate and less error-prone.\n"
         ]
      },
      {
         "cell_type": "code",
         "execution_count": 101,
         "metadata": {},
         "outputs": [],
         "source": [
            "field_codes = pd.read_csv(\"../resources/fieldcodes.csv\")"
         ]
      },
      {
         "cell_type": "code",
         "execution_count": 102,
         "metadata": {},
         "outputs": [],
         "source": [
            "landings[\"field_code\"] = landings.field_code.str.replace(\"-\", \"\")\n",
            "\n",
            "\n",
            "def insert_zero_padding(field_code):\n",
            "    try:\n",
            "        return field_code[:2] + f\"{int(field_code[2:]):03d}\"\n",
            "    except (ValueError, TypeError):\n",
            "        return field_code\n",
            "\n",
            "\n",
            "landings[\"field_code\"] = landings.field_code.apply(insert_zero_padding)"
         ]
      },
      {
         "cell_type": "code",
         "execution_count": 103,
         "metadata": {},
         "outputs": [],
         "source": [
            "landings = landings.drop(columns=[\"latitude\", \"longitude\"])"
         ]
      },
      {
         "cell_type": "code",
         "execution_count": 104,
         "metadata": {},
         "outputs": [],
         "source": [
            "landings = landings.merge(right=field_codes)"
         ]
      },
      {
         "cell_type": "markdown",
         "metadata": {},
         "source": [
            "## Load Locality Information\n",
            "\n",
            "Information about the localities is limited in the landing records. We bring in additional information, including the type of locality and the municipality it is a part of.\n"
         ]
      },
      {
         "cell_type": "code",
         "execution_count": 105,
         "metadata": {},
         "outputs": [
            {
               "data": {
                  "text/html": [
                     "<div>\n",
                     "<style scoped>\n",
                     "    .dataframe tbody tr th:only-of-type {\n",
                     "        vertical-align: middle;\n",
                     "    }\n",
                     "\n",
                     "    .dataframe tbody tr th {\n",
                     "        vertical-align: top;\n",
                     "    }\n",
                     "\n",
                     "    .dataframe thead th {\n",
                     "        text-align: right;\n",
                     "    }\n",
                     "</style>\n",
                     "<table border=\"1\" class=\"dataframe\">\n",
                     "  <thead>\n",
                     "    <tr style=\"text-align: right;\">\n",
                     "      <th></th>\n",
                     "      <th>locality</th>\n",
                     "      <th>municipality</th>\n",
                     "      <th>settlement_size</th>\n",
                     "    </tr>\n",
                     "  </thead>\n",
                     "  <tbody>\n",
                     "    <tr>\n",
                     "      <th>0</th>\n",
                     "      <td>Nerlerit Inaat</td>\n",
                     "      <td>Sermersooq</td>\n",
                     "      <td>Bygd</td>\n",
                     "    </tr>\n",
                     "    <tr>\n",
                     "      <th>2</th>\n",
                     "      <td>Sirius</td>\n",
                     "      <td>UFK</td>\n",
                     "      <td>Station</td>\n",
                     "    </tr>\n",
                     "    <tr>\n",
                     "      <th>3</th>\n",
                     "      <td>Akunnaaq</td>\n",
                     "      <td>Qaasuitsup</td>\n",
                     "      <td>Bygd</td>\n",
                     "    </tr>\n",
                     "    <tr>\n",
                     "      <th>4</th>\n",
                     "      <td>Kitsissuarsuit</td>\n",
                     "      <td>Qaasuitsup</td>\n",
                     "      <td>Bygd</td>\n",
                     "    </tr>\n",
                     "    <tr>\n",
                     "      <th>5</th>\n",
                     "      <td>Ikkatteq</td>\n",
                     "      <td>Sermersooq</td>\n",
                     "      <td>Bygd</td>\n",
                     "    </tr>\n",
                     "    <tr>\n",
                     "      <th>...</th>\n",
                     "      <td>...</td>\n",
                     "      <td>...</td>\n",
                     "      <td>...</td>\n",
                     "    </tr>\n",
                     "    <tr>\n",
                     "      <th>91</th>\n",
                     "      <td>Daneborg</td>\n",
                     "      <td>UFK</td>\n",
                     "      <td>Station</td>\n",
                     "    </tr>\n",
                     "    <tr>\n",
                     "      <th>93</th>\n",
                     "      <td>Ikamiut</td>\n",
                     "      <td>Qaasuitsup</td>\n",
                     "      <td>Bygd</td>\n",
                     "    </tr>\n",
                     "    <tr>\n",
                     "      <th>94</th>\n",
                     "      <td>Nutaarmiut</td>\n",
                     "      <td>Qaasuitsup</td>\n",
                     "      <td>Bygd</td>\n",
                     "    </tr>\n",
                     "    <tr>\n",
                     "      <th>95</th>\n",
                     "      <td>Ikerasaarsuk, Upernavik</td>\n",
                     "      <td>Qaasuitsup</td>\n",
                     "      <td>Bygd</td>\n",
                     "    </tr>\n",
                     "    <tr>\n",
                     "      <th>96</th>\n",
                     "      <td>Ungusivik</td>\n",
                     "      <td>Qeqqata</td>\n",
                     "      <td>Bygd</td>\n",
                     "    </tr>\n",
                     "  </tbody>\n",
                     "</table>\n",
                     "<p>92 rows × 3 columns</p>\n",
                     "</div>"
                  ],
                  "text/plain": [
                     "                   locality municipality settlement_size\n",
                     "0            Nerlerit Inaat   Sermersooq            Bygd\n",
                     "2                    Sirius          UFK         Station\n",
                     "3                  Akunnaaq   Qaasuitsup            Bygd\n",
                     "4            Kitsissuarsuit   Qaasuitsup            Bygd\n",
                     "5                  Ikkatteq   Sermersooq            Bygd\n",
                     "..                      ...          ...             ...\n",
                     "91                 Daneborg          UFK         Station\n",
                     "93                  Ikamiut   Qaasuitsup            Bygd\n",
                     "94               Nutaarmiut   Qaasuitsup            Bygd\n",
                     "95  Ikerasaarsuk, Upernavik   Qaasuitsup            Bygd\n",
                     "96                Ungusivik      Qeqqata            Bygd\n",
                     "\n",
                     "[92 rows x 3 columns]"
                  ]
               },
               "execution_count": 105,
               "metadata": {},
               "output_type": "execute_result"
            }
         ],
         "source": [
            "locality_info = pd.read_csv(\"../resources/localities.csv\")\n",
            "locality_info = locality_info[[\"locality\", \"municipality\", \"settlement_size\"]]\n",
            "locality_info = locality_info.dropna()\n",
            "locality_info"
         ]
      },
      {
         "cell_type": "code",
         "execution_count": 106,
         "metadata": {},
         "outputs": [],
         "source": [
            "landings = landings.merge(\n",
            "    locality_info, left_on=\"sellers_locality\", right_on=\"locality\"\n",
            ").drop(columns=\"locality\")"
         ]
      },
      {
         "cell_type": "markdown",
         "metadata": {},
         "source": [
            "## Create Derived Variables\n"
         ]
      },
      {
         "cell_type": "markdown",
         "metadata": {},
         "source": [
            "### Create Seasonal Year\n",
            "\n",
            "To evaluate fishing from Jan-Dec of each year is not helpful because ice fishing seasons occur at the end and the beginning of the year. We know that no ice fishing occurs in August, 8, so we create a seasonal year that spans from August to August of each year.\n"
         ]
      },
      {
         "cell_type": "code",
         "execution_count": 107,
         "metadata": {},
         "outputs": [],
         "source": [
            "season_start_month = 8\n",
            "\n",
            "landings[\"landing_date\"] = pd.to_datetime(landings.landing_date)\n",
            "landings[\"seasonal_year\"] = landings.landing_date.apply(\n",
            "    lambda x: x.year - 1 if x.month < season_start_month else x.year\n",
            ")\n",
            "landings = landings.query(\"seasonal_year >= 2012 & seasonal_year <= 2022\")"
         ]
      },
      {
         "cell_type": "markdown",
         "metadata": {},
         "source": [
            "### Calculate Catch Per Unit of Effort (CPUE)\n",
            "\n",
            "Catch per unit of effort is the quotient of the landed weight of the catch and the time invested, weighted by the number of tools or gears used.\n"
         ]
      },
      {
         "cell_type": "code",
         "execution_count": 108,
         "metadata": {},
         "outputs": [],
         "source": [
            "landings[\"effective_num_tools\"] = landings[\"num_tools\"]\n",
            "landings.loc[landings.gears == \"Longlines\", \"effective_num_tools\"] /= 100\n",
            "landings[\"cpue\"] = (\n",
            "    landings.amount_in_kg / landings.effective_num_tools / landings.fishing_time\n",
            ")\n",
            "landings = landings.drop(columns=\"effective_num_tools\")"
         ]
      },
      {
         "cell_type": "markdown",
         "metadata": {},
         "source": [
            "### Calculate Price Per Kilo (DKK/kg)\n",
            "\n",
            "Kilo price paid to fishers (aka sellers) is the quotient of the sale price (dkk) and the amount of catch landed (kg).\n"
         ]
      },
      {
         "cell_type": "code",
         "execution_count": 109,
         "metadata": {},
         "outputs": [],
         "source": [
            "landings[\"ppk\"] = landings.value / landings.amount_in_kg\n",
            "landings = landings.replace([np.inf, -np.inf], np.nan)\n",
            "landings = landings.dropna(subset=[\"cpue\", \"ppk\"])"
         ]
      },
      {
         "cell_type": "markdown",
         "metadata": {},
         "source": [
            "### Outlier Removal\n",
            "\n",
            "Outliers create intepretation issues and are almost always because of human input error on one of the variables, such as the amount of fish landed, the sale price, fishing time. We drop all outliers of kilo price, catch per unit of effort, and the sale price (aka value.)\n"
         ]
      },
      {
         "cell_type": "code",
         "execution_count": 110,
         "metadata": {},
         "outputs": [],
         "source": [
            "def is_outlier(s):\n",
            "    if s.shape[0] < 3:  # For less than 3 data points, outliers cannot be detected\n",
            "        return s != s\n",
            "    return pd.Series(\n",
            "        EllipticEnvelope(support_fraction=0.8).fit_predict(s.values.reshape(-1, 1))\n",
            "        == -1,\n",
            "        index=s.index,\n",
            "    )\n",
            "\n",
            "\n",
            "landings = landings[\n",
            "    ~landings.groupby(\"municipality\", group_keys=False)[\"cpue\"].apply(is_outlier)\n",
            "]\n",
            "landings = landings[\n",
            "    ~landings.groupby(\"municipality\", group_keys=False)[\"ppk\"].apply(is_outlier)\n",
            "]\n",
            "landings = landings[\n",
            "    ~landings.groupby(\"municipality\", group_keys=False)[\"value\"].apply(is_outlier)\n",
            "]"
         ]
      },
      {
         "cell_type": "markdown",
         "metadata": {},
         "source": [
            "### Write Out Landings Records"
         ]
      },
      {
         "cell_type": "code",
         "execution_count": 111,
         "metadata": {},
         "outputs": [],
         "source": [
            "landings.to_csv(\"../data/derived/landings_cleaned.csv\", index=None)"
         ]
      },
      {
         "cell_type": "markdown",
         "metadata": {},
         "source": [
            "## Create Derived Dataframes\n"
         ]
      },
      {
         "cell_type": "markdown",
         "metadata": {},
         "source": [
            "### Calculate Price Per Kilo According to Locality\n"
         ]
      },
      {
         "cell_type": "code",
         "execution_count": 137,
         "metadata": {},
         "outputs": [],
         "source": [
            "landings.groupby(by=[\"sellers_locality\", \"seasonal_year\", 'vessel_type']).ppk.mean().to_csv(\n",
            "    \"../data/derived/ppk_locality.csv\"\n",
            ")"
         ]
      },
      {
         "cell_type": "markdown",
         "metadata": {},
         "source": [
            "### Ice Landings and Water Landings\n"
         ]
      },
      {
         "cell_type": "code",
         "execution_count": 113,
         "metadata": {},
         "outputs": [],
         "source": [
            "ice_landings = landings.query('vessel_type == \"ice\"')\n",
            "water_landings = landings.query('vessel_type == \"water\"')"
         ]
      },
      {
         "cell_type": "markdown",
         "metadata": {},
         "source": [
            "### Total Daily Catch\n",
            "\n",
            "The total daily catch refers to how much ice fishing catch was landed each day, across all of the localities, by year. This dataframe permits interpretation of the development of each fishing season in terms of catch and timing of catch.\n"
         ]
      },
      {
         "cell_type": "code",
         "execution_count": 114,
         "metadata": {},
         "outputs": [],
         "source": [
            "total_daily_catch = (\n",
            "    ice_landings.groupby(by=[\"seasonal_year\", \"landing_date\"])\n",
            "    .amount_in_kg.sum()\n",
            "    .reset_index()\n",
            ")\n",
            "\n",
            "\n",
            "def calc_seasonal_days(row):\n",
            "    return (\n",
            "        row[\"landing_date\"] - dt.datetime(row[\"seasonal_year\"], season_start_month, 1)\n",
            "    ).days\n",
            "\n",
            "\n",
            "total_daily_catch[\"seasonal_day\"] = total_daily_catch[\n",
            "    [\"landing_date\", \"seasonal_year\"]\n",
            "].apply(calc_seasonal_days, axis=\"columns\")\n",
            "\n",
            "total_daily_catch[\"cumulative\"] = (\n",
            "    total_daily_catch.sort_values(by=\"seasonal_day\")\n",
            "    .groupby(by=[\"seasonal_year\"])\n",
            "    .amount_in_kg.cumsum()\n",
            ")\n",
            "\n",
            "total_daily_catch.to_csv(\"../data/derived/total_daily_catch.csv\", index=None)"
         ]
      },
      {
         "cell_type": "markdown",
         "metadata": {},
         "source": [
            "### Daily Catch by Locality\n",
            "\n",
            "Daily catch by locality refers to how much ice fishing catch was landed in each seasonal year, in each fieldcode, on each day, in each seller's locality. This dataframe permits interpretation of the distribution of catch amounts across a locality's fishing grounds.\n"
         ]
      },
      {
         "cell_type": "code",
         "execution_count": 115,
         "metadata": {},
         "outputs": [],
         "source": [
            "locality_daily_catch = (\n",
            "    ice_landings.groupby(\n",
            "        by=[\"seasonal_year\", \"field_code\", \"landing_date\", \"sellers_locality\"]\n",
            "    )\n",
            "    .amount_in_kg.sum()\n",
            "    .reset_index()\n",
            ")\n",
            "\n",
            "locality_daily_catch[\"seasonal_day\"] = locality_daily_catch[\n",
            "    [\"landing_date\", \"seasonal_year\"]\n",
            "].apply(calc_seasonal_days, axis=\"columns\")\n",
            "\n",
            "locality_daily_catch[\"cumulative\"] = (\n",
            "    locality_daily_catch.sort_values(by=\"seasonal_day\")\n",
            "    .groupby(by=[\"seasonal_year\", \"field_code\", \"sellers_locality\"])\n",
            "    .amount_in_kg.cumsum()\n",
            ")\n",
            "\n",
            "\n",
            "locality_daily_catch.to_csv(\"../data/derived/locality_daily_catch.csv\", index=None)"
         ]
      },
      {
         "cell_type": "markdown",
         "metadata": {},
         "source": [
            "### First Catch across all localities\n"
         ]
      },
      {
         "cell_type": "code",
         "execution_count": 116,
         "metadata": {},
         "outputs": [],
         "source": [
            "total_first_catch = (\n",
            "    total_daily_catch.groupby(by=[\"seasonal_year\"])\n",
            "    .seasonal_day.min()\n",
            "    .reset_index()\n",
            "    .rename(columns={\"seasonal_day\": \"first_catch_day\", \"seasonal_year\": \"season\"})\n",
            ")\n",
            "\n",
            "\n",
            "total_first_catch.to_csv(\"../data/derived/total_first_catch.csv\", index=None)"
         ]
      },
      {
         "cell_type": "markdown",
         "metadata": {},
         "source": [
            "### Last Catch across all localities\n"
         ]
      },
      {
         "cell_type": "code",
         "execution_count": 117,
         "metadata": {},
         "outputs": [],
         "source": [
            "total_last_catch = (\n",
            "    total_daily_catch.groupby(by=[\"seasonal_year\"])\n",
            "    .seasonal_day.max()\n",
            "    .reset_index()\n",
            "    .rename(columns={\"seasonal_day\": \"last_catch_day\", \"seasonal_year\": \"season\"})\n",
            ")\n",
            "\n",
            "total_last_catch.to_csv(\"../data/derived/total_last_catch.csv\", index=None)"
         ]
      },
      {
         "cell_type": "markdown",
         "metadata": {},
         "source": [
            "### First Catch at each Locality\n",
            "\n",
            "First catch at each locality is a dataframe listing the very first ice fishing landing, no matter how big or small, in each locality, in each field code, in each seasonal year.\n"
         ]
      },
      {
         "cell_type": "code",
         "execution_count": 118,
         "metadata": {},
         "outputs": [],
         "source": [
            "locality_first_catch = (\n",
            "    locality_daily_catch.groupby(by=[\"seasonal_year\", \"field_code\", \"sellers_locality\"])\n",
            "    .seasonal_day.min()\n",
            "    .reset_index()\n",
            "    .rename(columns={\"seasonal_day\": \"first_catch_day\", \"seasonal_year\": \"season\"})\n",
            ")\n",
            "\n",
            "locality_first_catch.to_csv(\"../data/derived/locality_first_catch.csv\", index=None)"
         ]
      },
      {
         "cell_type": "markdown",
         "metadata": {},
         "source": [
            "### Last Catch at each Locality\n",
            "\n",
            "Last catch at each locality is a dataframe listing the very last ice fishing landing, no matter how big or small, in each locality, in each field code, in each seasonal year.\n"
         ]
      },
      {
         "cell_type": "code",
         "execution_count": 119,
         "metadata": {},
         "outputs": [],
         "source": [
            "locality_last_catch = (\n",
            "    locality_daily_catch.groupby(by=[\"seasonal_year\", \"field_code\", \"sellers_locality\"])\n",
            "    .seasonal_day.max()\n",
            "    .reset_index()\n",
            "    .rename(columns={\"seasonal_day\": \"last_catch_day\", \"seasonal_year\": \"season\"})\n",
            ")\n",
            "locality_last_catch.to_csv(\"../data/derived/locality_last_catch.csv\", index=None)"
         ]
      },
      {
         "cell_type": "markdown",
         "metadata": {},
         "source": [
            "## Season Length (First/Last Catch Criteria)\n",
            "\n",
            "This calculates the length of the season according to the values calculated in the code cells immediately above.\n"
         ]
      },
      {
         "cell_type": "code",
         "execution_count": 120,
         "metadata": {},
         "outputs": [],
         "source": [
            "total_ice_season_length = (\n",
            "    total_last_catch.set_index(\"season\").last_catch_day\n",
            "    - total_first_catch.set_index(\"season\").first_catch_day\n",
            ")\n",
            "total_ice_season_length = total_ice_season_length.reset_index(name=\"ice_season_length\")\n",
            "\n",
            "# The 2022 season (going from August 2022, to August 2023) is incomplete in the dataset\n",
            "total_ice_season_length = total_ice_season_length[total_ice_season_length.season < 2023]\n",
            "\n",
            "total_ice_season_length.to_csv(\n",
            "    \"../data/derived/total_ice_season_length.csv\", index=None\n",
            ")"
         ]
      },
      {
         "cell_type": "markdown",
         "metadata": {},
         "source": [
            "### First and Last Days, by Locality, 2012-2022\n",
            "\n",
            "This dataframe brings together the first and last catch dates for each locality for each year, and which field codes were used on those dates, into one list. This list allows one to identify where the first and last fishing activity has taken place in each locality in each season.\n"
         ]
      },
      {
         "cell_type": "code",
         "execution_count": 121,
         "metadata": {},
         "outputs": [],
         "source": [
            "first_days = (\n",
            "    locality_daily_catch.groupby(by=[\"seasonal_year\", \"sellers_locality\"])\n",
            "    .seasonal_day.min()\n",
            "    .reset_index()\n",
            "    .merge(\n",
            "        locality_daily_catch[\n",
            "            [\n",
            "                \"seasonal_year\",\n",
            "                \"sellers_locality\",\n",
            "                \"field_code\",\n",
            "                \"seasonal_day\",\n",
            "                \"landing_date\",\n",
            "                \"amount_in_kg\",\n",
            "            ]\n",
            "        ]\n",
            "    )\n",
            "    .rename(columns={\"seasonal_day\": \"catch_day\", \"seasonal_year\": \"season\"})\n",
            ")\n",
            "\n",
            "first_days[\"first_or_last\"] = \"first\"\n",
            "\n",
            "last_days = (\n",
            "    locality_daily_catch.groupby(by=[\"seasonal_year\", \"sellers_locality\"])\n",
            "    .seasonal_day.max()\n",
            "    .reset_index()\n",
            "    .merge(\n",
            "        locality_daily_catch[\n",
            "            [\n",
            "                \"seasonal_year\",\n",
            "                \"sellers_locality\",\n",
            "                \"field_code\",\n",
            "                \"seasonal_day\",\n",
            "                \"landing_date\",\n",
            "                \"amount_in_kg\",\n",
            "            ]\n",
            "        ]\n",
            "    )\n",
            "    .rename(columns={\"seasonal_day\": \"catch_day\", \"seasonal_year\": \"season\"})\n",
            ")\n",
            "\n",
            "last_days[\"first_or_last\"] = \"last\"\n",
            "\n",
            "locality_seasons = pd.concat([first_days, last_days]).sort_values(\n",
            "    [\"season\", \"sellers_locality\"]\n",
            ")\n",
            "\n",
            "locality_seasons = locality_seasons.merge(field_codes, on=\"field_code\")\n",
            "\n",
            "locality_seasons = locality_seasons[\n",
            "    [\n",
            "        \"season\",\n",
            "        \"sellers_locality\",\n",
            "        \"landing_date\",\n",
            "        \"first_or_last\",\n",
            "        \"catch_day\",\n",
            "        \"amount_in_kg\",\n",
            "        \"field_code\",\n",
            "        \"latitude\",\n",
            "        \"longitude\",\n",
            "    ]\n",
            "].sort_values([\"season\", \"sellers_locality\"])\n",
            "\n",
            "locality_seasons.to_csv(\"../data/derived/locality_seasons.csv\", index=None)"
         ]
      },
      {
         "cell_type": "markdown",
         "metadata": {},
         "source": [
            "### First and Last Catch Days of each field code, 2012-2022\n"
         ]
      },
      {
         "cell_type": "code",
         "execution_count": 122,
         "metadata": {},
         "outputs": [],
         "source": [
            "field_code_first_catch_days = (\n",
            "    locality_daily_catch.groupby(by=[\"seasonal_year\", \"field_code\", \"sellers_locality\"])\n",
            "    .seasonal_day.min()\n",
            "    .reset_index()\n",
            "    .rename(columns={\"seasonal_day\": \"first_catch_day\", \"seasonal_year\": \"season\"})\n",
            ")\n",
            "\n",
            "field_code_first_catch_days.to_csv(\n",
            "    \"../data/derived/field_code_first_catch_days.csv\", index=None\n",
            ")\n",
            "\n",
            "field_code_last_catch_days = (\n",
            "    locality_daily_catch.groupby(by=[\"seasonal_year\", \"field_code\", \"sellers_locality\"])\n",
            "    .seasonal_day.max()\n",
            "    .reset_index()\n",
            "    .rename(columns={\"seasonal_day\": \"last_catch_day\", \"seasonal_year\": \"season\"})\n",
            ")\n",
            "\n",
            "field_code_last_catch_days.to_csv(\n",
            "    \"../data/derived/field_code_last_catch_days.csv\", index=None\n",
            ")"
         ]
      },
      {
         "cell_type": "markdown",
         "metadata": {},
         "source": [
            "### Local Ice Season Length\n"
         ]
      },
      {
         "cell_type": "code",
         "execution_count": 123,
         "metadata": {},
         "outputs": [],
         "source": [
            "field_code_ice_season_length = (\n",
            "    field_code_last_catch_days.set_index([\"season\", \"field_code\"]).last_catch_day\n",
            "    - field_code_first_catch_days.set_index([\"season\", \"field_code\"]).first_catch_day\n",
            ").reset_index(name=\"ice_season_length\")\n",
            "\n",
            "field_code_ice_season_length.to_csv(\n",
            "    \"../data/derived/field_code_ice_season_length.csv\", index=None\n",
            ")"
         ]
      },
      {
         "cell_type": "markdown",
         "metadata": {},
         "source": [
            "### Number of Fields Fished, 2012-2022\n",
            "\n",
            "This calculates the number of field codes that were fished each season.\n"
         ]
      },
      {
         "cell_type": "code",
         "execution_count": 124,
         "metadata": {},
         "outputs": [],
         "source": [
            "num_fields = (\n",
            "    field_code_first_catch_days.groupby(\"season\")\n",
            "    .field_code.nunique()\n",
            "    .rename(\"n_fields\")\n",
            ")\n",
            "num_fields.to_csv(\"../data/derived/total_num_fields.csv\")"
         ]
      },
      {
         "cell_type": "markdown",
         "metadata": {},
         "source": [
            "### Local Number of Fields Fished, 2012-2022\n",
            "\n",
            "This calculates the number of field codes that were fished each season in each locality.\n"
         ]
      },
      {
         "cell_type": "code",
         "execution_count": 125,
         "metadata": {},
         "outputs": [],
         "source": [
            "locality_num_fields = (\n",
            "    ice_landings.groupby(by=[\"seasonal_year\", \"sellers_locality\"])\n",
            "    .field_code.nunique()\n",
            "    .rename(\"n_fields\")\n",
            ")\n",
            "\n",
            "locality_num_fields.to_csv(\"../data/derived/locality_num_fields.csv\")"
         ]
      },
      {
         "cell_type": "markdown",
         "metadata": {},
         "source": [
            "### Fishing Grounds, by Locality, by Vessel Type, by Field Code, by Seasonal Year\n",
            "\n",
            "This identifies all of the fieldcodes that were fished in a season, from fishers in each locality, using either a water or ice vessel.\n"
         ]
      },
      {
         "cell_type": "code",
         "execution_count": 126,
         "metadata": {},
         "outputs": [],
         "source": [
            "fishing_grounds = (\n",
            "    landings.groupby(by=[\"seasonal_year\", \"sellers_locality\", \"vessel_type\"])\n",
            "    .field_code.unique()\n",
            "    .explode()\n",
            "    .reset_index()\n",
            ")\n",
            "fishing_grounds = fishing_grounds.merge(field_codes)\n",
            "fishing_grounds.to_csv(\"../data/derived/fishing_grounds.csv\", index=None)"
         ]
      },
      {
         "cell_type": "markdown",
         "metadata": {},
         "source": [
            "### Locality Seasons"
         ]
      },
      {
         "cell_type": "code",
         "execution_count": null,
         "metadata": {},
         "outputs": [],
         "source": [
            "locality_seasons = pd.read_csv(\"../data/derived/locality_seasons.csv\")\n",
            "\n",
            "\n",
            "def fit_ols(df):\n",
            "    df = df.sort_values(by=\"season\")\n",
            "    if df.shape[0] < 3:\n",
            "        return None\n",
            "    result_first = smf.ols('catch_day~season', data=df[df.first_or_last=='first']).fit() \n",
            "    result_last = smf.ols('catch_day~season', data=df[df.first_or_last=='last']).fit() \n",
            "    return result_last.params['season'] - result_first.params['season']\n",
            "    \n",
            "ice_season_trend = locality_seasons.groupby(\"sellers_locality\").apply(fit_ols).rename(\"ice_season_trend\").reset_index()\n",
            "ice_season_trend.head()"
         ]
      },
      {
         "cell_type": "code",
         "execution_count": 128,
         "metadata": {},
         "outputs": [
            {
               "data": {
                  "text/html": [
                     "<div>\n",
                     "<style scoped>\n",
                     "    .dataframe tbody tr th:only-of-type {\n",
                     "        vertical-align: middle;\n",
                     "    }\n",
                     "\n",
                     "    .dataframe tbody tr th {\n",
                     "        vertical-align: top;\n",
                     "    }\n",
                     "\n",
                     "    .dataframe thead th {\n",
                     "        text-align: right;\n",
                     "    }\n",
                     "</style>\n",
                     "<table border=\"1\" class=\"dataframe\">\n",
                     "  <thead>\n",
                     "    <tr style=\"text-align: right;\">\n",
                     "      <th></th>\n",
                     "      <th>sellers_locality</th>\n",
                     "      <th>lat</th>\n",
                     "      <th>lon</th>\n",
                     "    </tr>\n",
                     "  </thead>\n",
                     "  <tbody>\n",
                     "    <tr>\n",
                     "      <th>0</th>\n",
                     "      <td>Aasiaat</td>\n",
                     "      <td>68.707845</td>\n",
                     "      <td>-52.852348</td>\n",
                     "    </tr>\n",
                     "    <tr>\n",
                     "      <th>1</th>\n",
                     "      <td>Akunnaaq</td>\n",
                     "      <td>68.743124</td>\n",
                     "      <td>-52.336354</td>\n",
                     "    </tr>\n",
                     "    <tr>\n",
                     "      <th>2</th>\n",
                     "      <td>Alluitsup Paa</td>\n",
                     "      <td>60.463790</td>\n",
                     "      <td>-45.567544</td>\n",
                     "    </tr>\n",
                     "    <tr>\n",
                     "      <th>3</th>\n",
                     "      <td>Arsuk</td>\n",
                     "      <td>61.184964</td>\n",
                     "      <td>-48.435389</td>\n",
                     "    </tr>\n",
                     "    <tr>\n",
                     "      <th>4</th>\n",
                     "      <td>Atammik</td>\n",
                     "      <td>64.806106</td>\n",
                     "      <td>-52.175218</td>\n",
                     "    </tr>\n",
                     "  </tbody>\n",
                     "</table>\n",
                     "</div>"
                  ],
                  "text/plain": [
                     "  sellers_locality        lat        lon\n",
                     "0          Aasiaat  68.707845 -52.852348\n",
                     "1         Akunnaaq  68.743124 -52.336354\n",
                     "2    Alluitsup Paa  60.463790 -45.567544\n",
                     "3            Arsuk  61.184964 -48.435389\n",
                     "4          Atammik  64.806106 -52.175218"
                  ]
               },
               "execution_count": 128,
               "metadata": {},
               "output_type": "execute_result"
            }
         ],
         "source": [
            "locality_info = pd.read_csv(\"../resources/locality_lat_lon.csv\")\n",
            "locality_info.head()"
         ]
      },
      {
         "cell_type": "code",
         "execution_count": 129,
         "metadata": {},
         "outputs": [],
         "source": [
            "ice_season_trend = ice_season_trend.merge(locality_info)\n",
            "ice_season_trend = ice_season_trend.sort_values(by='lat', ascending=False)"
         ]
      },
      {
         "cell_type": "code",
         "execution_count": 130,
         "metadata": {},
         "outputs": [],
         "source": [
            "ice_season_trend.describe()\n",
            "\n",
            "ice_season_trend\n",
            "\n",
            "ice_season_trend.to_csv(\"../data/derived/ice_season_trend.csv\", index = None)\n"
         ]
      },
      {
         "cell_type": "markdown",
         "metadata": {},
         "source": [
            "# Season Length (5% - 95% Criteria)"
         ]
      },
      {
         "cell_type": "code",
         "execution_count": 131,
         "metadata": {},
         "outputs": [],
         "source": [
            "total_catch_per_year = landings.query('vessel_type == \"ice\"').groupby(by=['seasonal_year']).amount_in_kg.sum()\n",
            "\n",
            "total_catch_per_year.to_csv(\"../data/derived/total_catch_per_year.csv\", index = None)\n"
         ]
      },
      {
         "cell_type": "code",
         "execution_count": 132,
         "metadata": {},
         "outputs": [],
         "source": [
            "#derived\n",
            "lower_threshold_per_year = (total_catch_per_year * .05).to_dict()\n",
            "upper_threshold_per_year = (total_catch_per_year * .95).to_dict()\n",
            "\n",
            "def is_above_lower(row):\n",
            "    return row['cumulative'] > lower_threshold_per_year[row['seasonal_year']]\n",
            "\n",
            "def is_above_upper(row):\n",
            "    return row['cumulative'] > upper_threshold_per_year[row['seasonal_year']]\n",
            "\n",
            "total_daily_catch['season_started'] = total_daily_catch.apply(is_above_lower, axis='columns').map({False: None, True: True})\n",
            "total_daily_catch['season_ended'] = total_daily_catch.apply(is_above_upper, axis='columns').map({False: None, True: True})"
         ]
      },
      {
         "cell_type": "code",
         "execution_count": 133,
         "metadata": {},
         "outputs": [
            {
               "data": {
                  "text/plain": [
                     "<AxesSubplot:xlabel='season', ylabel='day 5% reached'>"
                  ]
               },
               "execution_count": 133,
               "metadata": {},
               "output_type": "execute_result"
            },
            {
               "data": {
                  "image/png": "[encoded data removed]",
                  "text/plain": [
                     "<Figure size 640x480 with 1 Axes>"
                  ]
               },
               "metadata": {},
               "output_type": "display_data"
            }
         ],
         "source": [
            "#derived\n",
            "season_start = total_daily_catch.dropna(subset='season_started').groupby(by='seasonal_year').seasonal_day.min().reset_index().rename(columns={'seasonal_year': 'season', 'seasonal_day': 'day 5% reached'})\n",
            "\n",
            "#viz\n",
            "sns.scatterplot(data=season_start, x='season', y='day 5% reached')"
         ]
      },
      {
         "cell_type": "code",
         "execution_count": 134,
         "metadata": {},
         "outputs": [
            {
               "data": {
                  "text/plain": [
                     "<AxesSubplot:xlabel='season', ylabel='day 95% reached'>"
                  ]
               },
               "execution_count": 134,
               "metadata": {},
               "output_type": "execute_result"
            },
            {
               "data": {
                  "image/png": "[encoded data removed]",
                  "text/plain": [
                     "<Figure size 640x480 with 1 Axes>"
                  ]
               },
               "metadata": {},
               "output_type": "display_data"
            }
         ],
         "source": [
            "#derived\n",
            "season_end = total_daily_catch.dropna(subset='season_ended').groupby(by='seasonal_year').seasonal_day.min().reset_index().rename(columns={'seasonal_year': 'season', 'seasonal_day': 'day 95% reached'})\n",
            "\n",
            "#viz\n",
            "sns.scatterplot(data=season_end, x='season', y='day 95% reached')"
         ]
      },
      {
         "cell_type": "code",
         "execution_count": 135,
         "metadata": {},
         "outputs": [],
         "source": [
            "#derived\n",
            "ice_season_length = season_end.set_index('season')['day 95% reached'] - season_start.set_index('season')['day 5% reached']\n",
            "ice_season_length = ice_season_length.reset_index(name='ice_season_length')"
         ]
      },
      {
         "cell_type": "code",
         "execution_count": 136,
         "metadata": {},
         "outputs": [
            {
               "data": {
                  "text/html": [
                     "<div>\n",
                     "<style scoped>\n",
                     "    .dataframe tbody tr th:only-of-type {\n",
                     "        vertical-align: middle;\n",
                     "    }\n",
                     "\n",
                     "    .dataframe tbody tr th {\n",
                     "        vertical-align: top;\n",
                     "    }\n",
                     "\n",
                     "    .dataframe thead th {\n",
                     "        text-align: right;\n",
                     "    }\n",
                     "</style>\n",
                     "<table border=\"1\" class=\"dataframe\">\n",
                     "  <thead>\n",
                     "    <tr style=\"text-align: right;\">\n",
                     "      <th></th>\n",
                     "      <th>season</th>\n",
                     "      <th>ice_season_length</th>\n",
                     "    </tr>\n",
                     "  </thead>\n",
                     "  <tbody>\n",
                     "    <tr>\n",
                     "      <th>season</th>\n",
                     "      <td>1.000000</td>\n",
                     "      <td>-0.351912</td>\n",
                     "    </tr>\n",
                     "    <tr>\n",
                     "      <th>ice_season_length</th>\n",
                     "      <td>-0.351912</td>\n",
                     "      <td>1.000000</td>\n",
                     "    </tr>\n",
                     "  </tbody>\n",
                     "</table>\n",
                     "</div>"
                  ],
                  "text/plain": [
                     "                     season  ice_season_length\n",
                     "season             1.000000          -0.351912\n",
                     "ice_season_length -0.351912           1.000000"
                  ]
               },
               "execution_count": 136,
               "metadata": {},
               "output_type": "execute_result"
            }
         ],
         "source": [
            "#stats\n",
            "ice_season_length.corr(method='kendall')"
         ]
      }
   ],
   "metadata": {
      "kernelspec": {
         "display_name": "base",
         "language": "python",
         "name": "python3"
      },
      "language_info": {
         "codemirror_mode": {
            "name": "ipython",
            "version": 3
         },
         "file_extension": ".py",
         "mimetype": "text/x-python",
         "name": "python",
         "nbconvert_exporter": "python",
         "pygments_lexer": "ipython3",
         "version": "3.9.13"
      }
   },
   "nbformat": 4,
   "nbformat_minor": 2
}
